{
 "cells": [
  {
   "cell_type": "markdown",
   "metadata": {},
   "source": [
    "# Predicting Car Crashes : An Analysis on the Severity of Crashes with respect to Weather and Road Condition"
   ]
  },
  {
   "cell_type": "markdown",
   "metadata": {},
   "source": [
    "This project is a part of the IBM Data Science Capstone Project for August 2020. The objectives of this study is to investigate the relationship between weather and road condition on the severity of crashes within the city of Seattle. "
   ]
  },
  {
   "cell_type": "markdown",
   "metadata": {},
   "source": [
    "## Loading Packages"
   ]
  },
  {
   "cell_type": "code",
   "execution_count": 1,
   "metadata": {},
   "outputs": [],
   "source": [
    "import pandas as pd\n",
    "import numpy as np\n",
    "import matplotlib.pyplot as plt\n",
    "import seaborn as sns\n",
    "%matplotlib inline"
   ]
  },
  {
   "cell_type": "code",
   "execution_count": 2,
   "metadata": {},
   "outputs": [],
   "source": [
    "def remove_vague(df,column):\n",
    "    df2 = df[df[column] != 'Unknown']\n",
    "    df2 = df2[df2[column] != 'Other']\n",
    "    return df2\n",
    "\n",
    "def groupby_df(df1,column, norm = True):\n",
    "    df_plot = df1.groupby([column])['SEVERITYCODE'].value_counts(normalize = norm).to_frame()\n",
    "    df_plot.rename(columns={'SEVERITYCODE': 'PROBABILITY'}, inplace = True)\n",
    "    prob1 = df_plot['PROBABILITY'].to_list()\n",
    "    sev1 = prob1[::3]\n",
    "    sev2 = prob1[1::3]\n",
    "    sev3 = prob1[2::3]\n",
    "    ind = np.unique(df_plot.index.get_level_values(0).values)\n",
    "    df2 = pd.DataFrame({'1':sev1,'2':sev2,'3':sev3}, index =ind )\n",
    "    return df2\n",
    "\n",
    "def groupby_plot(df1,column, colors = {'1': '#5cb85c', '2': '#5bc0de', '3': '#d9534f'} ):\n",
    "    dataframe = groupby_df(df1,column)\n",
    "    ax = dataframe.plot(kind='bar',width = 0.8, figsize = (20,8), color = [colors[i] for i in dataframe.columns])\n",
    "    ax.grid(False)\n",
    "    ax.set_xticklabels(dataframe.index, fontsize=16, rotation = 0)\n",
    "    ax.set_xlabel(column, fontsize = 18)\n",
    "    ax.set_ylabel('Probability', fontsize = 18)\n",
    "    ax.set_facecolor(\"white\")\n",
    "    ax.legend(title = \"Severity Level\",fontsize=14, facecolor = 'white', title_fontsize = 12)\n",
    "    ax.spines['bottom'].set_color('0')\n",
    "    ax.spines['bottom'].set_linewidth(1)\n",
    "\n",
    "    for p in ax.patches:\n",
    "        width = p.get_width()\n",
    "        height = p.get_height()\n",
    "        x, y = p.get_xy() \n",
    "        ax.annotate(f'{height:.0%}', (x + width/2, y + height + 0.01), ha='center', fontsize= 14)\n",
    "    return dataframe"
   ]
  },
  {
   "cell_type": "markdown",
   "metadata": {},
   "source": [
    "## Loading the dataset"
   ]
  },
  {
   "cell_type": "code",
   "execution_count": 3,
   "metadata": {},
   "outputs": [
    {
     "name": "stdout",
     "output_type": "stream",
     "text": [
      "(220937, 40)\n"
     ]
    },
    {
     "data": {
      "text/html": [
       "<div>\n",
       "<style scoped>\n",
       "    .dataframe tbody tr th:only-of-type {\n",
       "        vertical-align: middle;\n",
       "    }\n",
       "\n",
       "    .dataframe tbody tr th {\n",
       "        vertical-align: top;\n",
       "    }\n",
       "\n",
       "    .dataframe thead th {\n",
       "        text-align: right;\n",
       "    }\n",
       "</style>\n",
       "<table border=\"1\" class=\"dataframe\">\n",
       "  <thead>\n",
       "    <tr style=\"text-align: right;\">\n",
       "      <th></th>\n",
       "      <th>X</th>\n",
       "      <th>Y</th>\n",
       "      <th>OBJECTID</th>\n",
       "      <th>INCKEY</th>\n",
       "      <th>COLDETKEY</th>\n",
       "      <th>REPORTNO</th>\n",
       "      <th>STATUS</th>\n",
       "      <th>ADDRTYPE</th>\n",
       "      <th>INTKEY</th>\n",
       "      <th>LOCATION</th>\n",
       "      <th>...</th>\n",
       "      <th>ROADCOND</th>\n",
       "      <th>LIGHTCOND</th>\n",
       "      <th>PEDROWNOTGRNT</th>\n",
       "      <th>SDOTCOLNUM</th>\n",
       "      <th>SPEEDING</th>\n",
       "      <th>ST_COLCODE</th>\n",
       "      <th>ST_COLDESC</th>\n",
       "      <th>SEGLANEKEY</th>\n",
       "      <th>CROSSWALKKEY</th>\n",
       "      <th>HITPARKEDCAR</th>\n",
       "    </tr>\n",
       "  </thead>\n",
       "  <tbody>\n",
       "    <tr>\n",
       "      <th>0</th>\n",
       "      <td>1.256033e+06</td>\n",
       "      <td>240501.215914</td>\n",
       "      <td>1</td>\n",
       "      <td>332176</td>\n",
       "      <td>333676</td>\n",
       "      <td>EA40602</td>\n",
       "      <td>Matched</td>\n",
       "      <td>Intersection</td>\n",
       "      <td>26581.0</td>\n",
       "      <td>28TH AVE W AND W DRAVUS ST</td>\n",
       "      <td>...</td>\n",
       "      <td>Dry</td>\n",
       "      <td>Daylight</td>\n",
       "      <td>NaN</td>\n",
       "      <td>NaN</td>\n",
       "      <td>NaN</td>\n",
       "      <td>14</td>\n",
       "      <td>From same direction - both going straight - on...</td>\n",
       "      <td>0</td>\n",
       "      <td>0</td>\n",
       "      <td>N</td>\n",
       "    </tr>\n",
       "    <tr>\n",
       "      <th>1</th>\n",
       "      <td>1.282438e+06</td>\n",
       "      <td>223443.774169</td>\n",
       "      <td>2</td>\n",
       "      <td>328504</td>\n",
       "      <td>330004</td>\n",
       "      <td>EA10294</td>\n",
       "      <td>Unmatched</td>\n",
       "      <td>Block</td>\n",
       "      <td>NaN</td>\n",
       "      <td>LAKE WASHINGTON BLVD BETWEEN LAKESIDE AVE AND ...</td>\n",
       "      <td>...</td>\n",
       "      <td>NaN</td>\n",
       "      <td>NaN</td>\n",
       "      <td>NaN</td>\n",
       "      <td>NaN</td>\n",
       "      <td>NaN</td>\n",
       "      <td></td>\n",
       "      <td>NaN</td>\n",
       "      <td>0</td>\n",
       "      <td>0</td>\n",
       "      <td>Y</td>\n",
       "    </tr>\n",
       "    <tr>\n",
       "      <th>2</th>\n",
       "      <td>1.269233e+06</td>\n",
       "      <td>229465.525407</td>\n",
       "      <td>3</td>\n",
       "      <td>329091</td>\n",
       "      <td>330591</td>\n",
       "      <td>EA15604</td>\n",
       "      <td>Matched</td>\n",
       "      <td>Block</td>\n",
       "      <td>NaN</td>\n",
       "      <td>WESTLAKE AVE N BETWEEN DENNY WAY AND JOHN ST</td>\n",
       "      <td>...</td>\n",
       "      <td>Dry</td>\n",
       "      <td>Daylight</td>\n",
       "      <td>NaN</td>\n",
       "      <td>NaN</td>\n",
       "      <td>NaN</td>\n",
       "      <td>11</td>\n",
       "      <td>From same direction - both going straight - bo...</td>\n",
       "      <td>0</td>\n",
       "      <td>0</td>\n",
       "      <td>N</td>\n",
       "    </tr>\n",
       "    <tr>\n",
       "      <th>3</th>\n",
       "      <td>1.264590e+06</td>\n",
       "      <td>241958.209964</td>\n",
       "      <td>4</td>\n",
       "      <td>328274</td>\n",
       "      <td>329774</td>\n",
       "      <td>EA07215</td>\n",
       "      <td>Matched</td>\n",
       "      <td>Block</td>\n",
       "      <td>NaN</td>\n",
       "      <td>NW 36TH ST BETWEEN 1ST AVE NW AND LEARY WAY NW</td>\n",
       "      <td>...</td>\n",
       "      <td>Wet</td>\n",
       "      <td>Dark - Street Lights On</td>\n",
       "      <td>NaN</td>\n",
       "      <td>NaN</td>\n",
       "      <td>NaN</td>\n",
       "      <td>32</td>\n",
       "      <td>One parked--one moving</td>\n",
       "      <td>0</td>\n",
       "      <td>0</td>\n",
       "      <td>Y</td>\n",
       "    </tr>\n",
       "    <tr>\n",
       "      <th>4</th>\n",
       "      <td>1.280375e+06</td>\n",
       "      <td>271085.117386</td>\n",
       "      <td>5</td>\n",
       "      <td>329003</td>\n",
       "      <td>330503</td>\n",
       "      <td>E986969</td>\n",
       "      <td>Matched</td>\n",
       "      <td>Intersection</td>\n",
       "      <td>35990.0</td>\n",
       "      <td>30TH AVE NE AND NE 145TH ST</td>\n",
       "      <td>...</td>\n",
       "      <td>Dry</td>\n",
       "      <td>Daylight</td>\n",
       "      <td>NaN</td>\n",
       "      <td>NaN</td>\n",
       "      <td>NaN</td>\n",
       "      <td>10</td>\n",
       "      <td>Entering at angle</td>\n",
       "      <td>0</td>\n",
       "      <td>0</td>\n",
       "      <td>N</td>\n",
       "    </tr>\n",
       "  </tbody>\n",
       "</table>\n",
       "<p>5 rows × 40 columns</p>\n",
       "</div>"
      ],
      "text/plain": [
       "              X              Y  OBJECTID  INCKEY  COLDETKEY REPORTNO  \\\n",
       "0  1.256033e+06  240501.215914         1  332176     333676  EA40602   \n",
       "1  1.282438e+06  223443.774169         2  328504     330004  EA10294   \n",
       "2  1.269233e+06  229465.525407         3  329091     330591  EA15604   \n",
       "3  1.264590e+06  241958.209964         4  328274     329774  EA07215   \n",
       "4  1.280375e+06  271085.117386         5  329003     330503  E986969   \n",
       "\n",
       "      STATUS      ADDRTYPE   INTKEY  \\\n",
       "0    Matched  Intersection  26581.0   \n",
       "1  Unmatched         Block      NaN   \n",
       "2    Matched         Block      NaN   \n",
       "3    Matched         Block      NaN   \n",
       "4    Matched  Intersection  35990.0   \n",
       "\n",
       "                                            LOCATION  ... ROADCOND  \\\n",
       "0                         28TH AVE W AND W DRAVUS ST  ...      Dry   \n",
       "1  LAKE WASHINGTON BLVD BETWEEN LAKESIDE AVE AND ...  ...      NaN   \n",
       "2       WESTLAKE AVE N BETWEEN DENNY WAY AND JOHN ST  ...      Dry   \n",
       "3     NW 36TH ST BETWEEN 1ST AVE NW AND LEARY WAY NW  ...      Wet   \n",
       "4                        30TH AVE NE AND NE 145TH ST  ...      Dry   \n",
       "\n",
       "                 LIGHTCOND PEDROWNOTGRNT SDOTCOLNUM SPEEDING  ST_COLCODE  \\\n",
       "0                 Daylight           NaN        NaN      NaN          14   \n",
       "1                      NaN           NaN        NaN      NaN               \n",
       "2                 Daylight           NaN        NaN      NaN          11   \n",
       "3  Dark - Street Lights On           NaN        NaN      NaN          32   \n",
       "4                 Daylight           NaN        NaN      NaN          10   \n",
       "\n",
       "                                          ST_COLDESC  SEGLANEKEY  \\\n",
       "0  From same direction - both going straight - on...           0   \n",
       "1                                                NaN           0   \n",
       "2  From same direction - both going straight - bo...           0   \n",
       "3                             One parked--one moving           0   \n",
       "4                                  Entering at angle           0   \n",
       "\n",
       "   CROSSWALKKEY  HITPARKEDCAR  \n",
       "0             0             N  \n",
       "1             0             Y  \n",
       "2             0             N  \n",
       "3             0             Y  \n",
       "4             0             N  \n",
       "\n",
       "[5 rows x 40 columns]"
      ]
     },
     "execution_count": 3,
     "metadata": {},
     "output_type": "execute_result"
    }
   ],
   "source": [
    "raw = pd.read_csv(\"Collisions.csv\")\n",
    "print(raw.shape)\n",
    "raw.head()"
   ]
  },
  {
   "cell_type": "code",
   "execution_count": 4,
   "metadata": {},
   "outputs": [
    {
     "data": {
      "text/plain": [
       "Index(['X', 'Y', 'OBJECTID', 'INCKEY', 'COLDETKEY', 'REPORTNO', 'STATUS',\n",
       "       'ADDRTYPE', 'INTKEY', 'LOCATION', 'EXCEPTRSNCODE', 'EXCEPTRSNDESC',\n",
       "       'SEVERITYCODE', 'SEVERITYDESC', 'COLLISIONTYPE', 'PERSONCOUNT',\n",
       "       'PEDCOUNT', 'PEDCYLCOUNT', 'VEHCOUNT', 'INJURIES', 'SERIOUSINJURIES',\n",
       "       'FATALITIES', 'INCDATE', 'INCDTTM', 'JUNCTIONTYPE', 'SDOT_COLCODE',\n",
       "       'SDOT_COLDESC', 'INATTENTIONIND', 'UNDERINFL', 'WEATHER', 'ROADCOND',\n",
       "       'LIGHTCOND', 'PEDROWNOTGRNT', 'SDOTCOLNUM', 'SPEEDING', 'ST_COLCODE',\n",
       "       'ST_COLDESC', 'SEGLANEKEY', 'CROSSWALKKEY', 'HITPARKEDCAR'],\n",
       "      dtype='object')"
      ]
     },
     "execution_count": 4,
     "metadata": {},
     "output_type": "execute_result"
    }
   ],
   "source": [
    "raw.columns"
   ]
  },
  {
   "cell_type": "markdown",
   "metadata": {},
   "source": [
    "## Selecting relevant features"
   ]
  },
  {
   "cell_type": "code",
   "execution_count": 5,
   "metadata": {},
   "outputs": [
    {
     "data": {
      "text/html": [
       "<div>\n",
       "<style scoped>\n",
       "    .dataframe tbody tr th:only-of-type {\n",
       "        vertical-align: middle;\n",
       "    }\n",
       "\n",
       "    .dataframe tbody tr th {\n",
       "        vertical-align: top;\n",
       "    }\n",
       "\n",
       "    .dataframe thead th {\n",
       "        text-align: right;\n",
       "    }\n",
       "</style>\n",
       "<table border=\"1\" class=\"dataframe\">\n",
       "  <thead>\n",
       "    <tr style=\"text-align: right;\">\n",
       "      <th></th>\n",
       "      <th>VEHCOUNT</th>\n",
       "      <th>INJURIES</th>\n",
       "      <th>SERIOUSINJURIES</th>\n",
       "      <th>FATALITIES</th>\n",
       "      <th>WEATHER</th>\n",
       "      <th>ROADCOND</th>\n",
       "      <th>LIGHTCOND</th>\n",
       "    </tr>\n",
       "  </thead>\n",
       "  <tbody>\n",
       "    <tr>\n",
       "      <th>0</th>\n",
       "      <td>2</td>\n",
       "      <td>1</td>\n",
       "      <td>0</td>\n",
       "      <td>0</td>\n",
       "      <td>Overcast</td>\n",
       "      <td>Dry</td>\n",
       "      <td>Daylight</td>\n",
       "    </tr>\n",
       "    <tr>\n",
       "      <th>1</th>\n",
       "      <td>0</td>\n",
       "      <td>0</td>\n",
       "      <td>0</td>\n",
       "      <td>0</td>\n",
       "      <td>NaN</td>\n",
       "      <td>NaN</td>\n",
       "      <td>NaN</td>\n",
       "    </tr>\n",
       "    <tr>\n",
       "      <th>2</th>\n",
       "      <td>2</td>\n",
       "      <td>0</td>\n",
       "      <td>0</td>\n",
       "      <td>0</td>\n",
       "      <td>Clear</td>\n",
       "      <td>Dry</td>\n",
       "      <td>Daylight</td>\n",
       "    </tr>\n",
       "    <tr>\n",
       "      <th>3</th>\n",
       "      <td>4</td>\n",
       "      <td>0</td>\n",
       "      <td>0</td>\n",
       "      <td>0</td>\n",
       "      <td>Raining</td>\n",
       "      <td>Wet</td>\n",
       "      <td>Dark - Street Lights On</td>\n",
       "    </tr>\n",
       "    <tr>\n",
       "      <th>4</th>\n",
       "      <td>2</td>\n",
       "      <td>1</td>\n",
       "      <td>0</td>\n",
       "      <td>0</td>\n",
       "      <td>Clear</td>\n",
       "      <td>Dry</td>\n",
       "      <td>Daylight</td>\n",
       "    </tr>\n",
       "  </tbody>\n",
       "</table>\n",
       "</div>"
      ],
      "text/plain": [
       "   VEHCOUNT  INJURIES  SERIOUSINJURIES  FATALITIES   WEATHER ROADCOND  \\\n",
       "0         2         1                0           0  Overcast      Dry   \n",
       "1         0         0                0           0       NaN      NaN   \n",
       "2         2         0                0           0     Clear      Dry   \n",
       "3         4         0                0           0   Raining      Wet   \n",
       "4         2         1                0           0     Clear      Dry   \n",
       "\n",
       "                 LIGHTCOND  \n",
       "0                 Daylight  \n",
       "1                      NaN  \n",
       "2                 Daylight  \n",
       "3  Dark - Street Lights On  \n",
       "4                 Daylight  "
      ]
     },
     "execution_count": 5,
     "metadata": {},
     "output_type": "execute_result"
    }
   ],
   "source": [
    "features = ['VEHCOUNT','INJURIES','SERIOUSINJURIES','FATALITIES'\\\n",
    "            ,'WEATHER', 'ROADCOND','LIGHTCOND']\n",
    "df = raw[features]\n",
    "df.head()"
   ]
  },
  {
   "cell_type": "markdown",
   "metadata": {},
   "source": [
    "Note that we retained VEHCOUNT,INJURIES,SERIOUSINJURIES, and FATALITIES primarily for data analysis and would not be included in our model as these features can only be determined after a car crash and not prior to it. Thus although they serve as primary features responsible for determining SEVERITYCODE - they are variables which we are unable to predict given the current data."
   ]
  },
  {
   "cell_type": "markdown",
   "metadata": {},
   "source": [
    "# Data Cleaning and Wrangling"
   ]
  },
  {
   "cell_type": "markdown",
   "metadata": {},
   "source": [
    "### Binning Categorical Features From Existing Data"
   ]
  },
  {
   "cell_type": "markdown",
   "metadata": {},
   "source": [
    "Upon close inspection of the dataset, we can observe that some categorical features actually have similar types and are thus redundant. It would be best to group similar features as to limit the impact of class imbalance within our dataset."
   ]
  },
  {
   "cell_type": "markdown",
   "metadata": {},
   "source": [
    "#### Weather"
   ]
  },
  {
   "cell_type": "code",
   "execution_count": 6,
   "metadata": {},
   "outputs": [
    {
     "data": {
      "text/plain": [
       "Clear                       114293\n",
       "Raining                      34004\n",
       "Overcast                     28495\n",
       "Unknown                      15131\n",
       "Snowing                        919\n",
       "Other                          851\n",
       "Fog/Smog/Smoke                 576\n",
       "Sleet/Hail/Freezing Rain       116\n",
       "Blowing Sand/Dirt               56\n",
       "Severe Crosswind                26\n",
       "Partly Cloudy                    9\n",
       "Blowing Snow                     1\n",
       "Name: WEATHER, dtype: int64"
      ]
     },
     "execution_count": 6,
     "metadata": {},
     "output_type": "execute_result"
    }
   ],
   "source": [
    "df['WEATHER'].value_counts()"
   ]
  },
  {
   "cell_type": "markdown",
   "metadata": {},
   "source": [
    "As to remove the vagueness of our dataset, we can opt to remove datapoint with either Unknown or Other WEATHER. We opt to program a function to do this for all of our categorical values."
   ]
  },
  {
   "cell_type": "code",
   "execution_count": 7,
   "metadata": {},
   "outputs": [],
   "source": [
    "categ = ['WEATHER', 'ROADCOND', 'LIGHTCOND']\n",
    "for c in categ:\n",
    "    df = remove_vague(df,c)"
   ]
  },
  {
   "cell_type": "markdown",
   "metadata": {},
   "source": [
    "We can also classify special types of weather as Extreme Weather and classify Overcast and Partly Cloudy as Cloudy Weather as these usually follow each other and are highly similar."
   ]
  },
  {
   "cell_type": "code",
   "execution_count": 8,
   "metadata": {},
   "outputs": [
    {
     "data": {
      "text/plain": [
       "Clear              112078\n",
       "Raining             33525\n",
       "Cloudy Weather      27734\n",
       "Extreme Weather      1587\n",
       "Name: WEATHER, dtype: int64"
      ]
     },
     "execution_count": 8,
     "metadata": {},
     "output_type": "execute_result"
    }
   ],
   "source": [
    "df['WEATHER'] = df['WEATHER'].replace(['Overcast','Partly Cloudy'],'Cloudy Weather')\n",
    "df['WEATHER'] = df['WEATHER'].replace(['Snowing','Fog/Smog/Smoke','Sleet/Hail/Freezing Rain','Blowing Sand/Dirt','Severe Crosswind','Blowing Snow'],'Extreme Weather')\n",
    "df['WEATHER'].value_counts()"
   ]
  },
  {
   "cell_type": "markdown",
   "metadata": {},
   "source": [
    "#### Road Condition"
   ]
  },
  {
   "cell_type": "code",
   "execution_count": 9,
   "metadata": {},
   "outputs": [
    {
     "data": {
      "text/plain": [
       "Dry               125239\n",
       "Wet                47579\n",
       "Ice                 1105\n",
       "Snow/Slush           846\n",
       "Standing Water       109\n",
       "Sand/Mud/Dirt         68\n",
       "Oil                   60\n",
       "Name: ROADCOND, dtype: int64"
      ]
     },
     "execution_count": 9,
     "metadata": {},
     "output_type": "execute_result"
    }
   ],
   "source": [
    "df['ROADCOND'].value_counts()"
   ]
  },
  {
   "cell_type": "markdown",
   "metadata": {},
   "source": [
    "We opted to combine oil and ice as they are all road conditions relating to a lower level traction on the road. We also opted to simply absorb sand/mud/dirt into Dry as they are mostly similar. We also decided to combine wet and standing water into one class as well as they involve the presence of water on the road."
   ]
  },
  {
   "cell_type": "code",
   "execution_count": 10,
   "metadata": {},
   "outputs": [
    {
     "data": {
      "text/plain": [
       "Dry           125307\n",
       "Wet            47688\n",
       "Oil/Ice         1165\n",
       "Snow/Slush       846\n",
       "Name: ROADCOND, dtype: int64"
      ]
     },
     "execution_count": 10,
     "metadata": {},
     "output_type": "execute_result"
    }
   ],
   "source": [
    "df['ROADCOND'] = df['ROADCOND'].replace(['Oil','Ice'],'Oil/Ice')\n",
    "df['ROADCOND'] = df['ROADCOND'].replace(['Sand/Mud/Dirt'],'Dry')\n",
    "df['ROADCOND'] = df['ROADCOND'].replace(['Wet','Standing Water'],'Wet')\n",
    "df['ROADCOND'].value_counts()"
   ]
  },
  {
   "cell_type": "markdown",
   "metadata": {},
   "source": [
    "#### Light Condition"
   ]
  },
  {
   "cell_type": "code",
   "execution_count": 11,
   "metadata": {},
   "outputs": [
    {
     "data": {
      "text/plain": [
       "Daylight                    115587\n",
       "Dark - Street Lights On      48334\n",
       "Dusk                          5828\n",
       "Dawn                          2507\n",
       "Dark - No Street Lights       1445\n",
       "Dark - Street Lights Off      1156\n",
       "Dark - Unknown Lighting         15\n",
       "Name: LIGHTCOND, dtype: int64"
      ]
     },
     "execution_count": 11,
     "metadata": {},
     "output_type": "execute_result"
    }
   ],
   "source": [
    "df['LIGHTCOND'].value_counts()"
   ]
  },
  {
   "cell_type": "code",
   "execution_count": 12,
   "metadata": {},
   "outputs": [
    {
     "data": {
      "text/plain": [
       "Well Lit      115587\n",
       "Fairly Lit     56669\n",
       "Poorly Lit      2616\n",
       "Name: LIGHTCOND, dtype: int64"
      ]
     },
     "execution_count": 12,
     "metadata": {},
     "output_type": "execute_result"
    }
   ],
   "source": [
    "df['LIGHTCOND'] = df['LIGHTCOND'].replace(['Daylight'],'Well Lit')\n",
    "df['LIGHTCOND'] = df['LIGHTCOND'].replace(['Dusk','Dawn','Dark - Street Lights On'],'Fairly Lit')\n",
    "df['LIGHTCOND'] = df['LIGHTCOND'].replace(['Dark - Street Lights Off','Dark - No Street Lights','Dark - Unknown Lighting'],'Poorly Lit')\n",
    "df['LIGHTCOND'].value_counts()"
   ]
  },
  {
   "cell_type": "markdown",
   "metadata": {},
   "source": [
    "### Handling missing values in categorical data"
   ]
  },
  {
   "cell_type": "markdown",
   "metadata": {},
   "source": [
    "As there is currently a high imbalance within the dataset between the most frequent class and 2nd most frequent class - we opted not to convert the nulls within our dataset to the most frequent one but rather we opted to remove them from the dataset entirely."
   ]
  },
  {
   "cell_type": "code",
   "execution_count": 13,
   "metadata": {},
   "outputs": [
    {
     "name": "stdout",
     "output_type": "stream",
     "text": [
      "False    174924\n",
      "True      26445\n",
      "Name: WEATHER, dtype: int64 \n",
      "\n",
      "\n",
      "False    175006\n",
      "True      26363\n",
      "Name: ROADCOND, dtype: int64 \n",
      "\n",
      "\n",
      "False    174872\n",
      "True      26497\n",
      "Name: LIGHTCOND, dtype: int64 \n",
      "\n",
      "\n"
     ]
    }
   ],
   "source": [
    "categorical = ['WEATHER','ROADCOND','LIGHTCOND']\n",
    "for c in categorical:\n",
    "    print(df[c].isnull().value_counts(),'\\n\\n')"
   ]
  },
  {
   "cell_type": "markdown",
   "metadata": {},
   "source": [
    "### Preparing Target Values"
   ]
  },
  {
   "cell_type": "markdown",
   "metadata": {},
   "source": [
    "Rather than using severity code, we opted to use a new measure for determining how severe a car crash would be. Our measure uses a direct scoring system dependent on the total number of people involved per type of crash severity and not solely on the presence of an indicator."
   ]
  },
  {
   "cell_type": "code",
   "execution_count": 14,
   "metadata": {},
   "outputs": [
    {
     "data": {
      "text/html": [
       "<div>\n",
       "<style scoped>\n",
       "    .dataframe tbody tr th:only-of-type {\n",
       "        vertical-align: middle;\n",
       "    }\n",
       "\n",
       "    .dataframe tbody tr th {\n",
       "        vertical-align: top;\n",
       "    }\n",
       "\n",
       "    .dataframe thead th {\n",
       "        text-align: right;\n",
       "    }\n",
       "</style>\n",
       "<table border=\"1\" class=\"dataframe\">\n",
       "  <thead>\n",
       "    <tr style=\"text-align: right;\">\n",
       "      <th></th>\n",
       "      <th>VEHCOUNT</th>\n",
       "      <th>INJURIES</th>\n",
       "      <th>SERIOUSINJURIES</th>\n",
       "      <th>FATALITIES</th>\n",
       "    </tr>\n",
       "  </thead>\n",
       "  <tbody>\n",
       "    <tr>\n",
       "      <th>0</th>\n",
       "      <td>2</td>\n",
       "      <td>1</td>\n",
       "      <td>0</td>\n",
       "      <td>0</td>\n",
       "    </tr>\n",
       "    <tr>\n",
       "      <th>1</th>\n",
       "      <td>0</td>\n",
       "      <td>0</td>\n",
       "      <td>0</td>\n",
       "      <td>0</td>\n",
       "    </tr>\n",
       "    <tr>\n",
       "      <th>2</th>\n",
       "      <td>2</td>\n",
       "      <td>0</td>\n",
       "      <td>0</td>\n",
       "      <td>0</td>\n",
       "    </tr>\n",
       "    <tr>\n",
       "      <th>3</th>\n",
       "      <td>4</td>\n",
       "      <td>0</td>\n",
       "      <td>0</td>\n",
       "      <td>0</td>\n",
       "    </tr>\n",
       "    <tr>\n",
       "      <th>4</th>\n",
       "      <td>2</td>\n",
       "      <td>1</td>\n",
       "      <td>0</td>\n",
       "      <td>0</td>\n",
       "    </tr>\n",
       "    <tr>\n",
       "      <th>5</th>\n",
       "      <td>2</td>\n",
       "      <td>0</td>\n",
       "      <td>0</td>\n",
       "      <td>0</td>\n",
       "    </tr>\n",
       "    <tr>\n",
       "      <th>6</th>\n",
       "      <td>1</td>\n",
       "      <td>0</td>\n",
       "      <td>0</td>\n",
       "      <td>0</td>\n",
       "    </tr>\n",
       "    <tr>\n",
       "      <th>7</th>\n",
       "      <td>0</td>\n",
       "      <td>0</td>\n",
       "      <td>0</td>\n",
       "      <td>0</td>\n",
       "    </tr>\n",
       "    <tr>\n",
       "      <th>8</th>\n",
       "      <td>2</td>\n",
       "      <td>0</td>\n",
       "      <td>0</td>\n",
       "      <td>0</td>\n",
       "    </tr>\n",
       "    <tr>\n",
       "      <th>9</th>\n",
       "      <td>0</td>\n",
       "      <td>1</td>\n",
       "      <td>0</td>\n",
       "      <td>0</td>\n",
       "    </tr>\n",
       "    <tr>\n",
       "      <th>10</th>\n",
       "      <td>2</td>\n",
       "      <td>0</td>\n",
       "      <td>0</td>\n",
       "      <td>0</td>\n",
       "    </tr>\n",
       "    <tr>\n",
       "      <th>11</th>\n",
       "      <td>3</td>\n",
       "      <td>0</td>\n",
       "      <td>0</td>\n",
       "      <td>0</td>\n",
       "    </tr>\n",
       "    <tr>\n",
       "      <th>12</th>\n",
       "      <td>2</td>\n",
       "      <td>1</td>\n",
       "      <td>0</td>\n",
       "      <td>0</td>\n",
       "    </tr>\n",
       "    <tr>\n",
       "      <th>13</th>\n",
       "      <td>2</td>\n",
       "      <td>0</td>\n",
       "      <td>0</td>\n",
       "      <td>0</td>\n",
       "    </tr>\n",
       "    <tr>\n",
       "      <th>14</th>\n",
       "      <td>2</td>\n",
       "      <td>0</td>\n",
       "      <td>0</td>\n",
       "      <td>0</td>\n",
       "    </tr>\n",
       "    <tr>\n",
       "      <th>15</th>\n",
       "      <td>1</td>\n",
       "      <td>0</td>\n",
       "      <td>0</td>\n",
       "      <td>0</td>\n",
       "    </tr>\n",
       "    <tr>\n",
       "      <th>16</th>\n",
       "      <td>2</td>\n",
       "      <td>0</td>\n",
       "      <td>0</td>\n",
       "      <td>0</td>\n",
       "    </tr>\n",
       "    <tr>\n",
       "      <th>17</th>\n",
       "      <td>3</td>\n",
       "      <td>0</td>\n",
       "      <td>0</td>\n",
       "      <td>0</td>\n",
       "    </tr>\n",
       "    <tr>\n",
       "      <th>18</th>\n",
       "      <td>2</td>\n",
       "      <td>0</td>\n",
       "      <td>0</td>\n",
       "      <td>0</td>\n",
       "    </tr>\n",
       "    <tr>\n",
       "      <th>19</th>\n",
       "      <td>1</td>\n",
       "      <td>0</td>\n",
       "      <td>0</td>\n",
       "      <td>0</td>\n",
       "    </tr>\n",
       "    <tr>\n",
       "      <th>20</th>\n",
       "      <td>1</td>\n",
       "      <td>1</td>\n",
       "      <td>0</td>\n",
       "      <td>0</td>\n",
       "    </tr>\n",
       "    <tr>\n",
       "      <th>21</th>\n",
       "      <td>2</td>\n",
       "      <td>0</td>\n",
       "      <td>0</td>\n",
       "      <td>0</td>\n",
       "    </tr>\n",
       "    <tr>\n",
       "      <th>22</th>\n",
       "      <td>2</td>\n",
       "      <td>0</td>\n",
       "      <td>0</td>\n",
       "      <td>0</td>\n",
       "    </tr>\n",
       "    <tr>\n",
       "      <th>23</th>\n",
       "      <td>2</td>\n",
       "      <td>1</td>\n",
       "      <td>0</td>\n",
       "      <td>0</td>\n",
       "    </tr>\n",
       "    <tr>\n",
       "      <th>24</th>\n",
       "      <td>2</td>\n",
       "      <td>0</td>\n",
       "      <td>0</td>\n",
       "      <td>0</td>\n",
       "    </tr>\n",
       "    <tr>\n",
       "      <th>25</th>\n",
       "      <td>2</td>\n",
       "      <td>0</td>\n",
       "      <td>0</td>\n",
       "      <td>0</td>\n",
       "    </tr>\n",
       "    <tr>\n",
       "      <th>26</th>\n",
       "      <td>2</td>\n",
       "      <td>2</td>\n",
       "      <td>0</td>\n",
       "      <td>0</td>\n",
       "    </tr>\n",
       "    <tr>\n",
       "      <th>27</th>\n",
       "      <td>0</td>\n",
       "      <td>0</td>\n",
       "      <td>0</td>\n",
       "      <td>0</td>\n",
       "    </tr>\n",
       "    <tr>\n",
       "      <th>28</th>\n",
       "      <td>0</td>\n",
       "      <td>0</td>\n",
       "      <td>0</td>\n",
       "      <td>0</td>\n",
       "    </tr>\n",
       "    <tr>\n",
       "      <th>29</th>\n",
       "      <td>1</td>\n",
       "      <td>1</td>\n",
       "      <td>1</td>\n",
       "      <td>0</td>\n",
       "    </tr>\n",
       "    <tr>\n",
       "      <th>...</th>\n",
       "      <td>...</td>\n",
       "      <td>...</td>\n",
       "      <td>...</td>\n",
       "      <td>...</td>\n",
       "    </tr>\n",
       "    <tr>\n",
       "      <th>220903</th>\n",
       "      <td>2</td>\n",
       "      <td>0</td>\n",
       "      <td>0</td>\n",
       "      <td>0</td>\n",
       "    </tr>\n",
       "    <tr>\n",
       "      <th>220904</th>\n",
       "      <td>2</td>\n",
       "      <td>0</td>\n",
       "      <td>0</td>\n",
       "      <td>0</td>\n",
       "    </tr>\n",
       "    <tr>\n",
       "      <th>220905</th>\n",
       "      <td>0</td>\n",
       "      <td>0</td>\n",
       "      <td>0</td>\n",
       "      <td>0</td>\n",
       "    </tr>\n",
       "    <tr>\n",
       "      <th>220906</th>\n",
       "      <td>2</td>\n",
       "      <td>0</td>\n",
       "      <td>0</td>\n",
       "      <td>0</td>\n",
       "    </tr>\n",
       "    <tr>\n",
       "      <th>220907</th>\n",
       "      <td>2</td>\n",
       "      <td>0</td>\n",
       "      <td>0</td>\n",
       "      <td>0</td>\n",
       "    </tr>\n",
       "    <tr>\n",
       "      <th>220908</th>\n",
       "      <td>2</td>\n",
       "      <td>0</td>\n",
       "      <td>0</td>\n",
       "      <td>0</td>\n",
       "    </tr>\n",
       "    <tr>\n",
       "      <th>220910</th>\n",
       "      <td>2</td>\n",
       "      <td>0</td>\n",
       "      <td>0</td>\n",
       "      <td>0</td>\n",
       "    </tr>\n",
       "    <tr>\n",
       "      <th>220911</th>\n",
       "      <td>0</td>\n",
       "      <td>0</td>\n",
       "      <td>0</td>\n",
       "      <td>0</td>\n",
       "    </tr>\n",
       "    <tr>\n",
       "      <th>220912</th>\n",
       "      <td>2</td>\n",
       "      <td>0</td>\n",
       "      <td>0</td>\n",
       "      <td>0</td>\n",
       "    </tr>\n",
       "    <tr>\n",
       "      <th>220913</th>\n",
       "      <td>1</td>\n",
       "      <td>1</td>\n",
       "      <td>1</td>\n",
       "      <td>0</td>\n",
       "    </tr>\n",
       "    <tr>\n",
       "      <th>220915</th>\n",
       "      <td>2</td>\n",
       "      <td>0</td>\n",
       "      <td>0</td>\n",
       "      <td>0</td>\n",
       "    </tr>\n",
       "    <tr>\n",
       "      <th>220916</th>\n",
       "      <td>2</td>\n",
       "      <td>0</td>\n",
       "      <td>0</td>\n",
       "      <td>0</td>\n",
       "    </tr>\n",
       "    <tr>\n",
       "      <th>220917</th>\n",
       "      <td>1</td>\n",
       "      <td>1</td>\n",
       "      <td>0</td>\n",
       "      <td>0</td>\n",
       "    </tr>\n",
       "    <tr>\n",
       "      <th>220918</th>\n",
       "      <td>2</td>\n",
       "      <td>0</td>\n",
       "      <td>0</td>\n",
       "      <td>0</td>\n",
       "    </tr>\n",
       "    <tr>\n",
       "      <th>220919</th>\n",
       "      <td>0</td>\n",
       "      <td>0</td>\n",
       "      <td>0</td>\n",
       "      <td>0</td>\n",
       "    </tr>\n",
       "    <tr>\n",
       "      <th>220920</th>\n",
       "      <td>2</td>\n",
       "      <td>1</td>\n",
       "      <td>0</td>\n",
       "      <td>0</td>\n",
       "    </tr>\n",
       "    <tr>\n",
       "      <th>220921</th>\n",
       "      <td>2</td>\n",
       "      <td>0</td>\n",
       "      <td>0</td>\n",
       "      <td>0</td>\n",
       "    </tr>\n",
       "    <tr>\n",
       "      <th>220922</th>\n",
       "      <td>0</td>\n",
       "      <td>0</td>\n",
       "      <td>0</td>\n",
       "      <td>0</td>\n",
       "    </tr>\n",
       "    <tr>\n",
       "      <th>220923</th>\n",
       "      <td>0</td>\n",
       "      <td>0</td>\n",
       "      <td>0</td>\n",
       "      <td>0</td>\n",
       "    </tr>\n",
       "    <tr>\n",
       "      <th>220924</th>\n",
       "      <td>0</td>\n",
       "      <td>0</td>\n",
       "      <td>0</td>\n",
       "      <td>0</td>\n",
       "    </tr>\n",
       "    <tr>\n",
       "      <th>220925</th>\n",
       "      <td>0</td>\n",
       "      <td>1</td>\n",
       "      <td>0</td>\n",
       "      <td>0</td>\n",
       "    </tr>\n",
       "    <tr>\n",
       "      <th>220926</th>\n",
       "      <td>0</td>\n",
       "      <td>0</td>\n",
       "      <td>0</td>\n",
       "      <td>0</td>\n",
       "    </tr>\n",
       "    <tr>\n",
       "      <th>220927</th>\n",
       "      <td>1</td>\n",
       "      <td>1</td>\n",
       "      <td>0</td>\n",
       "      <td>0</td>\n",
       "    </tr>\n",
       "    <tr>\n",
       "      <th>220928</th>\n",
       "      <td>2</td>\n",
       "      <td>1</td>\n",
       "      <td>0</td>\n",
       "      <td>0</td>\n",
       "    </tr>\n",
       "    <tr>\n",
       "      <th>220929</th>\n",
       "      <td>2</td>\n",
       "      <td>0</td>\n",
       "      <td>0</td>\n",
       "      <td>0</td>\n",
       "    </tr>\n",
       "    <tr>\n",
       "      <th>220930</th>\n",
       "      <td>2</td>\n",
       "      <td>3</td>\n",
       "      <td>1</td>\n",
       "      <td>0</td>\n",
       "    </tr>\n",
       "    <tr>\n",
       "      <th>220931</th>\n",
       "      <td>2</td>\n",
       "      <td>2</td>\n",
       "      <td>0</td>\n",
       "      <td>0</td>\n",
       "    </tr>\n",
       "    <tr>\n",
       "      <th>220932</th>\n",
       "      <td>2</td>\n",
       "      <td>0</td>\n",
       "      <td>0</td>\n",
       "      <td>0</td>\n",
       "    </tr>\n",
       "    <tr>\n",
       "      <th>220933</th>\n",
       "      <td>1</td>\n",
       "      <td>1</td>\n",
       "      <td>1</td>\n",
       "      <td>0</td>\n",
       "    </tr>\n",
       "    <tr>\n",
       "      <th>220936</th>\n",
       "      <td>0</td>\n",
       "      <td>0</td>\n",
       "      <td>0</td>\n",
       "      <td>0</td>\n",
       "    </tr>\n",
       "  </tbody>\n",
       "</table>\n",
       "<p>201369 rows × 4 columns</p>\n",
       "</div>"
      ],
      "text/plain": [
       "        VEHCOUNT  INJURIES  SERIOUSINJURIES  FATALITIES\n",
       "0              2         1                0           0\n",
       "1              0         0                0           0\n",
       "2              2         0                0           0\n",
       "3              4         0                0           0\n",
       "4              2         1                0           0\n",
       "5              2         0                0           0\n",
       "6              1         0                0           0\n",
       "7              0         0                0           0\n",
       "8              2         0                0           0\n",
       "9              0         1                0           0\n",
       "10             2         0                0           0\n",
       "11             3         0                0           0\n",
       "12             2         1                0           0\n",
       "13             2         0                0           0\n",
       "14             2         0                0           0\n",
       "15             1         0                0           0\n",
       "16             2         0                0           0\n",
       "17             3         0                0           0\n",
       "18             2         0                0           0\n",
       "19             1         0                0           0\n",
       "20             1         1                0           0\n",
       "21             2         0                0           0\n",
       "22             2         0                0           0\n",
       "23             2         1                0           0\n",
       "24             2         0                0           0\n",
       "25             2         0                0           0\n",
       "26             2         2                0           0\n",
       "27             0         0                0           0\n",
       "28             0         0                0           0\n",
       "29             1         1                1           0\n",
       "...          ...       ...              ...         ...\n",
       "220903         2         0                0           0\n",
       "220904         2         0                0           0\n",
       "220905         0         0                0           0\n",
       "220906         2         0                0           0\n",
       "220907         2         0                0           0\n",
       "220908         2         0                0           0\n",
       "220910         2         0                0           0\n",
       "220911         0         0                0           0\n",
       "220912         2         0                0           0\n",
       "220913         1         1                1           0\n",
       "220915         2         0                0           0\n",
       "220916         2         0                0           0\n",
       "220917         1         1                0           0\n",
       "220918         2         0                0           0\n",
       "220919         0         0                0           0\n",
       "220920         2         1                0           0\n",
       "220921         2         0                0           0\n",
       "220922         0         0                0           0\n",
       "220923         0         0                0           0\n",
       "220924         0         0                0           0\n",
       "220925         0         1                0           0\n",
       "220926         0         0                0           0\n",
       "220927         1         1                0           0\n",
       "220928         2         1                0           0\n",
       "220929         2         0                0           0\n",
       "220930         2         3                1           0\n",
       "220931         2         2                0           0\n",
       "220932         2         0                0           0\n",
       "220933         1         1                1           0\n",
       "220936         0         0                0           0\n",
       "\n",
       "[201369 rows x 4 columns]"
      ]
     },
     "execution_count": 14,
     "metadata": {},
     "output_type": "execute_result"
    }
   ],
   "source": [
    "df[['VEHCOUNT','INJURIES','SERIOUSINJURIES','FATALITIES']]"
   ]
  },
  {
   "cell_type": "markdown",
   "metadata": {},
   "source": [
    "We can opt to measure the severity given the sum of the following arbitrary measures:\n",
    "* **VEHCOUNT** (Vehicles involved in Crash) x 1\n",
    "* **INJURIES** (# of People that had minor injuries due to the Crash) x 10\n",
    "* **SERIOUSINJURIES** (# of People that had major injuries due to the Crash) x 100\n",
    "* **FATALITIES** (# of People that died due to the Crash) x 1000\n",
    "\n",
    "Note that these are arbitrary scoring parameters based on the importance of life. Thus a better indicator such as economic impact of the crash that would include all costs such as repair costs, hospital costs, economic damage, settlements, and the likes would serve as a good measure for severity - however as we have failed to find a suitable dataset that contains as such, we opted to favor this arbitrary scoring method which we named LIFECOST."
   ]
  },
  {
   "cell_type": "code",
   "execution_count": 15,
   "metadata": {},
   "outputs": [
    {
     "data": {
      "text/html": [
       "<div>\n",
       "<style scoped>\n",
       "    .dataframe tbody tr th:only-of-type {\n",
       "        vertical-align: middle;\n",
       "    }\n",
       "\n",
       "    .dataframe tbody tr th {\n",
       "        vertical-align: top;\n",
       "    }\n",
       "\n",
       "    .dataframe thead th {\n",
       "        text-align: right;\n",
       "    }\n",
       "</style>\n",
       "<table border=\"1\" class=\"dataframe\">\n",
       "  <thead>\n",
       "    <tr style=\"text-align: right;\">\n",
       "      <th></th>\n",
       "      <th>VEHCOUNT</th>\n",
       "      <th>INJURIES</th>\n",
       "      <th>SERIOUSINJURIES</th>\n",
       "      <th>FATALITIES</th>\n",
       "      <th>WEATHER</th>\n",
       "      <th>ROADCOND</th>\n",
       "      <th>LIGHTCOND</th>\n",
       "      <th>LIFECOST</th>\n",
       "    </tr>\n",
       "  </thead>\n",
       "  <tbody>\n",
       "    <tr>\n",
       "      <th>0</th>\n",
       "      <td>2</td>\n",
       "      <td>1</td>\n",
       "      <td>0</td>\n",
       "      <td>0</td>\n",
       "      <td>Cloudy Weather</td>\n",
       "      <td>Dry</td>\n",
       "      <td>Well Lit</td>\n",
       "      <td>12</td>\n",
       "    </tr>\n",
       "    <tr>\n",
       "      <th>1</th>\n",
       "      <td>0</td>\n",
       "      <td>0</td>\n",
       "      <td>0</td>\n",
       "      <td>0</td>\n",
       "      <td>NaN</td>\n",
       "      <td>NaN</td>\n",
       "      <td>NaN</td>\n",
       "      <td>0</td>\n",
       "    </tr>\n",
       "    <tr>\n",
       "      <th>2</th>\n",
       "      <td>2</td>\n",
       "      <td>0</td>\n",
       "      <td>0</td>\n",
       "      <td>0</td>\n",
       "      <td>Clear</td>\n",
       "      <td>Dry</td>\n",
       "      <td>Well Lit</td>\n",
       "      <td>2</td>\n",
       "    </tr>\n",
       "    <tr>\n",
       "      <th>3</th>\n",
       "      <td>4</td>\n",
       "      <td>0</td>\n",
       "      <td>0</td>\n",
       "      <td>0</td>\n",
       "      <td>Raining</td>\n",
       "      <td>Wet</td>\n",
       "      <td>Fairly Lit</td>\n",
       "      <td>4</td>\n",
       "    </tr>\n",
       "    <tr>\n",
       "      <th>4</th>\n",
       "      <td>2</td>\n",
       "      <td>1</td>\n",
       "      <td>0</td>\n",
       "      <td>0</td>\n",
       "      <td>Clear</td>\n",
       "      <td>Dry</td>\n",
       "      <td>Well Lit</td>\n",
       "      <td>12</td>\n",
       "    </tr>\n",
       "  </tbody>\n",
       "</table>\n",
       "</div>"
      ],
      "text/plain": [
       "   VEHCOUNT  INJURIES  SERIOUSINJURIES  FATALITIES         WEATHER ROADCOND  \\\n",
       "0         2         1                0           0  Cloudy Weather      Dry   \n",
       "1         0         0                0           0             NaN      NaN   \n",
       "2         2         0                0           0           Clear      Dry   \n",
       "3         4         0                0           0         Raining      Wet   \n",
       "4         2         1                0           0           Clear      Dry   \n",
       "\n",
       "    LIGHTCOND  LIFECOST  \n",
       "0    Well Lit        12  \n",
       "1         NaN         0  \n",
       "2    Well Lit         2  \n",
       "3  Fairly Lit         4  \n",
       "4    Well Lit        12  "
      ]
     },
     "execution_count": 15,
     "metadata": {},
     "output_type": "execute_result"
    }
   ],
   "source": [
    "df['LIFECOST'] = df['VEHCOUNT'] + df['INJURIES']*10 + df['SERIOUSINJURIES']*100 + df['FATALITIES']*1000\n",
    "df.head()"
   ]
  },
  {
   "cell_type": "code",
   "execution_count": 16,
   "metadata": {},
   "outputs": [
    {
     "data": {
      "text/html": [
       "<div>\n",
       "<style scoped>\n",
       "    .dataframe tbody tr th:only-of-type {\n",
       "        vertical-align: middle;\n",
       "    }\n",
       "\n",
       "    .dataframe tbody tr th {\n",
       "        vertical-align: top;\n",
       "    }\n",
       "\n",
       "    .dataframe thead th {\n",
       "        text-align: right;\n",
       "    }\n",
       "</style>\n",
       "<table border=\"1\" class=\"dataframe\">\n",
       "  <thead>\n",
       "    <tr style=\"text-align: right;\">\n",
       "      <th></th>\n",
       "      <th>VEHCOUNT</th>\n",
       "      <th>INJURIES</th>\n",
       "      <th>SERIOUSINJURIES</th>\n",
       "      <th>FATALITIES</th>\n",
       "      <th>LIFECOST</th>\n",
       "    </tr>\n",
       "  </thead>\n",
       "  <tbody>\n",
       "    <tr>\n",
       "      <th>count</th>\n",
       "      <td>201369.000000</td>\n",
       "      <td>201369.000000</td>\n",
       "      <td>201369.000000</td>\n",
       "      <td>201369.000000</td>\n",
       "      <td>201369.000000</td>\n",
       "    </tr>\n",
       "    <tr>\n",
       "      <th>mean</th>\n",
       "      <td>1.706991</td>\n",
       "      <td>0.401318</td>\n",
       "      <td>0.016298</td>\n",
       "      <td>0.001818</td>\n",
       "      <td>9.167573</td>\n",
       "    </tr>\n",
       "    <tr>\n",
       "      <th>std</th>\n",
       "      <td>0.860095</td>\n",
       "      <td>0.752999</td>\n",
       "      <td>0.164341</td>\n",
       "      <td>0.046389</td>\n",
       "      <td>53.513490</td>\n",
       "    </tr>\n",
       "    <tr>\n",
       "      <th>min</th>\n",
       "      <td>0.000000</td>\n",
       "      <td>0.000000</td>\n",
       "      <td>0.000000</td>\n",
       "      <td>0.000000</td>\n",
       "      <td>0.000000</td>\n",
       "    </tr>\n",
       "    <tr>\n",
       "      <th>25%</th>\n",
       "      <td>1.000000</td>\n",
       "      <td>0.000000</td>\n",
       "      <td>0.000000</td>\n",
       "      <td>0.000000</td>\n",
       "      <td>2.000000</td>\n",
       "    </tr>\n",
       "    <tr>\n",
       "      <th>50%</th>\n",
       "      <td>2.000000</td>\n",
       "      <td>0.000000</td>\n",
       "      <td>0.000000</td>\n",
       "      <td>0.000000</td>\n",
       "      <td>2.000000</td>\n",
       "    </tr>\n",
       "    <tr>\n",
       "      <th>75%</th>\n",
       "      <td>2.000000</td>\n",
       "      <td>1.000000</td>\n",
       "      <td>0.000000</td>\n",
       "      <td>0.000000</td>\n",
       "      <td>11.000000</td>\n",
       "    </tr>\n",
       "    <tr>\n",
       "      <th>max</th>\n",
       "      <td>15.000000</td>\n",
       "      <td>78.000000</td>\n",
       "      <td>41.000000</td>\n",
       "      <td>5.000000</td>\n",
       "      <td>9885.000000</td>\n",
       "    </tr>\n",
       "  </tbody>\n",
       "</table>\n",
       "</div>"
      ],
      "text/plain": [
       "            VEHCOUNT       INJURIES  SERIOUSINJURIES     FATALITIES  \\\n",
       "count  201369.000000  201369.000000    201369.000000  201369.000000   \n",
       "mean        1.706991       0.401318         0.016298       0.001818   \n",
       "std         0.860095       0.752999         0.164341       0.046389   \n",
       "min         0.000000       0.000000         0.000000       0.000000   \n",
       "25%         1.000000       0.000000         0.000000       0.000000   \n",
       "50%         2.000000       0.000000         0.000000       0.000000   \n",
       "75%         2.000000       1.000000         0.000000       0.000000   \n",
       "max        15.000000      78.000000        41.000000       5.000000   \n",
       "\n",
       "            LIFECOST  \n",
       "count  201369.000000  \n",
       "mean        9.167573  \n",
       "std        53.513490  \n",
       "min         0.000000  \n",
       "25%         2.000000  \n",
       "50%         2.000000  \n",
       "75%        11.000000  \n",
       "max      9885.000000  "
      ]
     },
     "execution_count": 16,
     "metadata": {},
     "output_type": "execute_result"
    }
   ],
   "source": [
    "df.describe()"
   ]
  },
  {
   "cell_type": "code",
   "execution_count": 17,
   "metadata": {},
   "outputs": [
    {
     "data": {
      "text/plain": [
       "2       95442\n",
       "12      25529\n",
       "0       25268\n",
       "11      13093\n",
       "1       11098\n",
       "22       7413\n",
       "3        7260\n",
       "13       3341\n",
       "32       1732\n",
       "23       1377\n",
       "111      1362\n",
       "4        1312\n",
       "10        954\n",
       "112       680\n",
       "21        609\n",
       "14        593\n",
       "33        520\n",
       "42        498\n",
       "5         269\n",
       "122       268\n",
       "24        264\n",
       "20        182\n",
       "1001      175\n",
       "15        142\n",
       "52        138\n",
       "34        135\n",
       "43        131\n",
       "121       101\n",
       "113        94\n",
       "132        84\n",
       "        ...  \n",
       "1054        1\n",
       "2221        1\n",
       "172         1\n",
       "352         1\n",
       "1441        1\n",
       "442         1\n",
       "2021        1\n",
       "90          1\n",
       "613         1\n",
       "554         1\n",
       "99          1\n",
       "4005        1\n",
       "29          1\n",
       "1563        1\n",
       "175         1\n",
       "49          1\n",
       "1331        1\n",
       "351         1\n",
       "9885        1\n",
       "665         1\n",
       "1256        1\n",
       "105         1\n",
       "3001        1\n",
       "1336        1\n",
       "441         1\n",
       "362         1\n",
       "235         1\n",
       "363         1\n",
       "1043        1\n",
       "1023        1\n",
       "Name: LIFECOST, Length: 197, dtype: int64"
      ]
     },
     "execution_count": 17,
     "metadata": {},
     "output_type": "execute_result"
    }
   ],
   "source": [
    "df['LIFECOST'].value_counts()"
   ]
  },
  {
   "cell_type": "markdown",
   "metadata": {},
   "source": [
    "As you might observe, there is a wide range of values for LIFECOST and is highly spreadout with larger values having the least amount of datapoints. We therefore bin these values such that we can have a better view of the dataset structure."
   ]
  },
  {
   "cell_type": "code",
   "execution_count": 18,
   "metadata": {},
   "outputs": [],
   "source": [
    "def bin_cost(x):\n",
    "    if x <= 9: #Indicates mostly Property Damage\n",
    "        return 0\n",
    "    elif (x>9) and (x<=50): #Indicates Minor Crash involving some injuries\n",
    "        return 1\n",
    "    elif (x>50) and (x<=100): #Indicates a Severe Crash with multiple people having minor injuries\n",
    "        return 2\n",
    "    elif (x>100) and (x<=500): #Indicates a Major Crash with major injuries\n",
    "        return 3\n",
    "    elif (x>500) and (x<=2000): #Indicates a Major Crash with major injuries and death\n",
    "        return 4\n",
    "    elif (x>2000): #Indicates a Massive Crash with multiple deaths\n",
    "        return 5"
   ]
  },
  {
   "cell_type": "code",
   "execution_count": 19,
   "metadata": {},
   "outputs": [
    {
     "data": {
      "text/html": [
       "<div>\n",
       "<style scoped>\n",
       "    .dataframe tbody tr th:only-of-type {\n",
       "        vertical-align: middle;\n",
       "    }\n",
       "\n",
       "    .dataframe tbody tr th {\n",
       "        vertical-align: top;\n",
       "    }\n",
       "\n",
       "    .dataframe thead th {\n",
       "        text-align: right;\n",
       "    }\n",
       "</style>\n",
       "<table border=\"1\" class=\"dataframe\">\n",
       "  <thead>\n",
       "    <tr style=\"text-align: right;\">\n",
       "      <th></th>\n",
       "      <th>VEHCOUNT</th>\n",
       "      <th>INJURIES</th>\n",
       "      <th>SERIOUSINJURIES</th>\n",
       "      <th>FATALITIES</th>\n",
       "      <th>WEATHER</th>\n",
       "      <th>ROADCOND</th>\n",
       "      <th>LIGHTCOND</th>\n",
       "      <th>LIFECOST</th>\n",
       "      <th>LIFECOSTSCORE</th>\n",
       "    </tr>\n",
       "  </thead>\n",
       "  <tbody>\n",
       "    <tr>\n",
       "      <th>0</th>\n",
       "      <td>2</td>\n",
       "      <td>1</td>\n",
       "      <td>0</td>\n",
       "      <td>0</td>\n",
       "      <td>Cloudy Weather</td>\n",
       "      <td>Dry</td>\n",
       "      <td>Well Lit</td>\n",
       "      <td>12</td>\n",
       "      <td>1</td>\n",
       "    </tr>\n",
       "    <tr>\n",
       "      <th>1</th>\n",
       "      <td>0</td>\n",
       "      <td>0</td>\n",
       "      <td>0</td>\n",
       "      <td>0</td>\n",
       "      <td>NaN</td>\n",
       "      <td>NaN</td>\n",
       "      <td>NaN</td>\n",
       "      <td>0</td>\n",
       "      <td>0</td>\n",
       "    </tr>\n",
       "    <tr>\n",
       "      <th>2</th>\n",
       "      <td>2</td>\n",
       "      <td>0</td>\n",
       "      <td>0</td>\n",
       "      <td>0</td>\n",
       "      <td>Clear</td>\n",
       "      <td>Dry</td>\n",
       "      <td>Well Lit</td>\n",
       "      <td>2</td>\n",
       "      <td>0</td>\n",
       "    </tr>\n",
       "    <tr>\n",
       "      <th>3</th>\n",
       "      <td>4</td>\n",
       "      <td>0</td>\n",
       "      <td>0</td>\n",
       "      <td>0</td>\n",
       "      <td>Raining</td>\n",
       "      <td>Wet</td>\n",
       "      <td>Fairly Lit</td>\n",
       "      <td>4</td>\n",
       "      <td>0</td>\n",
       "    </tr>\n",
       "    <tr>\n",
       "      <th>4</th>\n",
       "      <td>2</td>\n",
       "      <td>1</td>\n",
       "      <td>0</td>\n",
       "      <td>0</td>\n",
       "      <td>Clear</td>\n",
       "      <td>Dry</td>\n",
       "      <td>Well Lit</td>\n",
       "      <td>12</td>\n",
       "      <td>1</td>\n",
       "    </tr>\n",
       "  </tbody>\n",
       "</table>\n",
       "</div>"
      ],
      "text/plain": [
       "   VEHCOUNT  INJURIES  SERIOUSINJURIES  FATALITIES         WEATHER ROADCOND  \\\n",
       "0         2         1                0           0  Cloudy Weather      Dry   \n",
       "1         0         0                0           0             NaN      NaN   \n",
       "2         2         0                0           0           Clear      Dry   \n",
       "3         4         0                0           0         Raining      Wet   \n",
       "4         2         1                0           0           Clear      Dry   \n",
       "\n",
       "    LIGHTCOND  LIFECOST  LIFECOSTSCORE  \n",
       "0    Well Lit        12              1  \n",
       "1         NaN         0              0  \n",
       "2    Well Lit         2              0  \n",
       "3  Fairly Lit         4              0  \n",
       "4    Well Lit        12              1  "
      ]
     },
     "execution_count": 19,
     "metadata": {},
     "output_type": "execute_result"
    }
   ],
   "source": [
    "df['LIFECOSTSCORE'] = df['LIFECOST'].apply(bin_cost)\n",
    "df.head()"
   ]
  },
  {
   "cell_type": "code",
   "execution_count": 20,
   "metadata": {},
   "outputs": [
    {
     "data": {
      "text/plain": [
       "0    140772\n",
       "1     56886\n",
       "3      2990\n",
       "2       374\n",
       "4       331\n",
       "5        16\n",
       "Name: LIFECOSTSCORE, dtype: int64"
      ]
     },
     "execution_count": 20,
     "metadata": {},
     "output_type": "execute_result"
    }
   ],
   "source": [
    "df['LIFECOSTSCORE'].value_counts()"
   ]
  },
  {
   "cell_type": "markdown",
   "metadata": {},
   "source": [
    "### Removing null values"
   ]
  },
  {
   "cell_type": "code",
   "execution_count": 21,
   "metadata": {},
   "outputs": [
    {
     "name": "stdout",
     "output_type": "stream",
     "text": [
      "<class 'pandas.core.frame.DataFrame'>\n",
      "Int64Index: 174720 entries, 0 to 220933\n",
      "Data columns (total 9 columns):\n",
      "VEHCOUNT           174720 non-null int64\n",
      "INJURIES           174720 non-null int64\n",
      "SERIOUSINJURIES    174720 non-null int64\n",
      "FATALITIES         174720 non-null int64\n",
      "WEATHER            174720 non-null object\n",
      "ROADCOND           174720 non-null object\n",
      "LIGHTCOND          174720 non-null object\n",
      "LIFECOST           174720 non-null int64\n",
      "LIFECOSTSCORE      174720 non-null int64\n",
      "dtypes: int64(6), object(3)\n",
      "memory usage: 13.3+ MB\n"
     ]
    }
   ],
   "source": [
    "df = df.dropna()\n",
    "df.info()"
   ]
  },
  {
   "cell_type": "markdown",
   "metadata": {},
   "source": [
    "# Initial Data Analysis"
   ]
  },
  {
   "cell_type": "markdown",
   "metadata": {},
   "source": [
    "We investigate how frequent do accidents occur given the ideal conditions for a driving (clear weather, sufficient lighting, dry road)."
   ]
  },
  {
   "cell_type": "code",
   "execution_count": 22,
   "metadata": {},
   "outputs": [
    {
     "data": {
      "text/html": [
       "<div>\n",
       "<style scoped>\n",
       "    .dataframe tbody tr th:only-of-type {\n",
       "        vertical-align: middle;\n",
       "    }\n",
       "\n",
       "    .dataframe tbody tr th {\n",
       "        vertical-align: top;\n",
       "    }\n",
       "\n",
       "    .dataframe thead th {\n",
       "        text-align: right;\n",
       "    }\n",
       "</style>\n",
       "<table border=\"1\" class=\"dataframe\">\n",
       "  <thead>\n",
       "    <tr style=\"text-align: right;\">\n",
       "      <th></th>\n",
       "      <th>VEHCOUNT</th>\n",
       "      <th>INJURIES</th>\n",
       "      <th>SERIOUSINJURIES</th>\n",
       "      <th>FATALITIES</th>\n",
       "      <th>WEATHER</th>\n",
       "      <th>ROADCOND</th>\n",
       "      <th>LIGHTCOND</th>\n",
       "      <th>LIFECOST</th>\n",
       "      <th>LIFECOSTSCORE</th>\n",
       "    </tr>\n",
       "  </thead>\n",
       "  <tbody>\n",
       "    <tr>\n",
       "      <th>2</th>\n",
       "      <td>2</td>\n",
       "      <td>0</td>\n",
       "      <td>0</td>\n",
       "      <td>0</td>\n",
       "      <td>Clear</td>\n",
       "      <td>Dry</td>\n",
       "      <td>Well Lit</td>\n",
       "      <td>2</td>\n",
       "      <td>0</td>\n",
       "    </tr>\n",
       "    <tr>\n",
       "      <th>4</th>\n",
       "      <td>2</td>\n",
       "      <td>1</td>\n",
       "      <td>0</td>\n",
       "      <td>0</td>\n",
       "      <td>Clear</td>\n",
       "      <td>Dry</td>\n",
       "      <td>Well Lit</td>\n",
       "      <td>12</td>\n",
       "      <td>1</td>\n",
       "    </tr>\n",
       "    <tr>\n",
       "      <th>5</th>\n",
       "      <td>2</td>\n",
       "      <td>0</td>\n",
       "      <td>0</td>\n",
       "      <td>0</td>\n",
       "      <td>Clear</td>\n",
       "      <td>Dry</td>\n",
       "      <td>Well Lit</td>\n",
       "      <td>2</td>\n",
       "      <td>0</td>\n",
       "    </tr>\n",
       "    <tr>\n",
       "      <th>12</th>\n",
       "      <td>2</td>\n",
       "      <td>1</td>\n",
       "      <td>0</td>\n",
       "      <td>0</td>\n",
       "      <td>Clear</td>\n",
       "      <td>Dry</td>\n",
       "      <td>Well Lit</td>\n",
       "      <td>12</td>\n",
       "      <td>1</td>\n",
       "    </tr>\n",
       "    <tr>\n",
       "      <th>16</th>\n",
       "      <td>2</td>\n",
       "      <td>0</td>\n",
       "      <td>0</td>\n",
       "      <td>0</td>\n",
       "      <td>Clear</td>\n",
       "      <td>Dry</td>\n",
       "      <td>Well Lit</td>\n",
       "      <td>2</td>\n",
       "      <td>0</td>\n",
       "    </tr>\n",
       "  </tbody>\n",
       "</table>\n",
       "</div>"
      ],
      "text/plain": [
       "    VEHCOUNT  INJURIES  SERIOUSINJURIES  FATALITIES WEATHER ROADCOND  \\\n",
       "2          2         0                0           0   Clear      Dry   \n",
       "4          2         1                0           0   Clear      Dry   \n",
       "5          2         0                0           0   Clear      Dry   \n",
       "12         2         1                0           0   Clear      Dry   \n",
       "16         2         0                0           0   Clear      Dry   \n",
       "\n",
       "   LIGHTCOND  LIFECOST  LIFECOSTSCORE  \n",
       "2   Well Lit         2              0  \n",
       "4   Well Lit        12              1  \n",
       "5   Well Lit         2              0  \n",
       "12  Well Lit        12              1  \n",
       "16  Well Lit         2              0  "
      ]
     },
     "execution_count": 22,
     "metadata": {},
     "output_type": "execute_result"
    }
   ],
   "source": [
    "df_ideal = df[(df['WEATHER'] == 'Clear') & (df['ROADCOND'] == 'Dry') & (df['LIGHTCOND'] == 'Well Lit')]\n",
    "df_ideal.head()"
   ]
  },
  {
   "cell_type": "code",
   "execution_count": 23,
   "metadata": {},
   "outputs": [
    {
     "data": {
      "text/plain": [
       "0    0.649560\n",
       "1    0.330289\n",
       "3    0.016392\n",
       "2    0.002131\n",
       "4    0.001576\n",
       "5    0.000052\n",
       "Name: LIFECOSTSCORE, dtype: float64"
      ]
     },
     "execution_count": 23,
     "metadata": {},
     "output_type": "execute_result"
    }
   ],
   "source": [
    "df_ideal['LIFECOSTSCORE'].value_counts(normalize = 'True')"
   ]
  },
  {
   "cell_type": "markdown",
   "metadata": {},
   "source": [
    "We investigate the distribution with respect to severity of car crashes within ideal conditions"
   ]
  },
  {
   "cell_type": "code",
   "execution_count": 24,
   "metadata": {},
   "outputs": [
    {
     "data": {
      "image/png": "[encoded data removed]",
      "text/plain": [
       "<Figure size 720x360 with 1 Axes>"
      ]
     },
     "metadata": {
      "needs_background": "light"
     },
     "output_type": "display_data"
    }
   ],
   "source": [
    "#df_ideal['SEVERITYCODE'].value_counts(normalize=True).plot(kind='bar', figsize = (20,8))\n",
    "\n",
    "ax = df_ideal['LIFECOSTSCORE'].value_counts(normalize = True).plot(kind='bar', figsize = (10,5), width = 0.7, color = 'b')\n",
    "ax.grid(False)\n",
    "ax.set_xticklabels(['Life Cost 0','Life Cost 1','Life Cost 2','Life Cost 3','Life Cost 4','Life Cost 5'],fontsize=12, rotation = 0)\n",
    "ax.set_xlabel('Crash Severity', fontsize = 18)\n",
    "ax.set_ylabel('Total Crashes(%)', fontsize = 18)\n",
    "ax.set_facecolor(\"white\")\n",
    "#ax.legend(title = \"Severity Level\",fontsize=14, facecolor = 'white', title_fontsize = 12)\n",
    "ax.spines['bottom'].set_color('0')\n",
    "ax.spines['bottom'].set_linewidth(1)\n",
    "\n",
    "for p in ax.patches:\n",
    "    width = p.get_width()\n",
    "    height = p.get_height()\n",
    "    x, y = p.get_xy() \n",
    "    ax.annotate(f'{height:.3%}', (x + width/2, y + height + 0.005), ha='center', fontsize= 12)"
   ]
  },
  {
   "cell_type": "markdown",
   "metadata": {},
   "source": [
    "We then compare it with non ideal conditions to assess the difference between the ideal conditions and not so ideal conditions"
   ]
  },
  {
   "cell_type": "code",
   "execution_count": 25,
   "metadata": {},
   "outputs": [
    {
     "data": {
      "text/html": [
       "<div>\n",
       "<style scoped>\n",
       "    .dataframe tbody tr th:only-of-type {\n",
       "        vertical-align: middle;\n",
       "    }\n",
       "\n",
       "    .dataframe tbody tr th {\n",
       "        vertical-align: top;\n",
       "    }\n",
       "\n",
       "    .dataframe thead th {\n",
       "        text-align: right;\n",
       "    }\n",
       "</style>\n",
       "<table border=\"1\" class=\"dataframe\">\n",
       "  <thead>\n",
       "    <tr style=\"text-align: right;\">\n",
       "      <th></th>\n",
       "      <th>VEHCOUNT</th>\n",
       "      <th>INJURIES</th>\n",
       "      <th>SERIOUSINJURIES</th>\n",
       "      <th>FATALITIES</th>\n",
       "      <th>WEATHER</th>\n",
       "      <th>ROADCOND</th>\n",
       "      <th>LIGHTCOND</th>\n",
       "      <th>LIFECOST</th>\n",
       "      <th>LIFECOSTSCORE</th>\n",
       "    </tr>\n",
       "  </thead>\n",
       "  <tbody>\n",
       "    <tr>\n",
       "      <th>0</th>\n",
       "      <td>2</td>\n",
       "      <td>1</td>\n",
       "      <td>0</td>\n",
       "      <td>0</td>\n",
       "      <td>Cloudy Weather</td>\n",
       "      <td>Dry</td>\n",
       "      <td>Well Lit</td>\n",
       "      <td>12</td>\n",
       "      <td>1</td>\n",
       "    </tr>\n",
       "    <tr>\n",
       "      <th>3</th>\n",
       "      <td>4</td>\n",
       "      <td>0</td>\n",
       "      <td>0</td>\n",
       "      <td>0</td>\n",
       "      <td>Raining</td>\n",
       "      <td>Wet</td>\n",
       "      <td>Fairly Lit</td>\n",
       "      <td>4</td>\n",
       "      <td>0</td>\n",
       "    </tr>\n",
       "    <tr>\n",
       "      <th>6</th>\n",
       "      <td>1</td>\n",
       "      <td>0</td>\n",
       "      <td>0</td>\n",
       "      <td>0</td>\n",
       "      <td>Clear</td>\n",
       "      <td>Dry</td>\n",
       "      <td>Fairly Lit</td>\n",
       "      <td>1</td>\n",
       "      <td>0</td>\n",
       "    </tr>\n",
       "    <tr>\n",
       "      <th>8</th>\n",
       "      <td>2</td>\n",
       "      <td>0</td>\n",
       "      <td>0</td>\n",
       "      <td>0</td>\n",
       "      <td>Raining</td>\n",
       "      <td>Wet</td>\n",
       "      <td>Well Lit</td>\n",
       "      <td>2</td>\n",
       "      <td>0</td>\n",
       "    </tr>\n",
       "    <tr>\n",
       "      <th>10</th>\n",
       "      <td>2</td>\n",
       "      <td>0</td>\n",
       "      <td>0</td>\n",
       "      <td>0</td>\n",
       "      <td>Clear</td>\n",
       "      <td>Dry</td>\n",
       "      <td>Fairly Lit</td>\n",
       "      <td>2</td>\n",
       "      <td>0</td>\n",
       "    </tr>\n",
       "  </tbody>\n",
       "</table>\n",
       "</div>"
      ],
      "text/plain": [
       "    VEHCOUNT  INJURIES  SERIOUSINJURIES  FATALITIES         WEATHER ROADCOND  \\\n",
       "0          2         1                0           0  Cloudy Weather      Dry   \n",
       "3          4         0                0           0         Raining      Wet   \n",
       "6          1         0                0           0           Clear      Dry   \n",
       "8          2         0                0           0         Raining      Wet   \n",
       "10         2         0                0           0           Clear      Dry   \n",
       "\n",
       "     LIGHTCOND  LIFECOST  LIFECOSTSCORE  \n",
       "0     Well Lit        12              1  \n",
       "3   Fairly Lit         4              0  \n",
       "6   Fairly Lit         1              0  \n",
       "8     Well Lit         2              0  \n",
       "10  Fairly Lit         2              0  "
      ]
     },
     "execution_count": 25,
     "metadata": {},
     "output_type": "execute_result"
    }
   ],
   "source": [
    "df_worse = df[(df['WEATHER'] != 'Clear') | (df['ROADCOND'] != 'Dry') | (df['LIGHTCOND'] != 'Well Lit')]\n",
    "df_worse.head()"
   ]
  },
  {
   "cell_type": "code",
   "execution_count": 26,
   "metadata": {},
   "outputs": [
    {
     "data": {
      "text/plain": [
       "0    0.667420\n",
       "1    0.310751\n",
       "3    0.017533\n",
       "2    0.002138\n",
       "4    0.002035\n",
       "5    0.000123\n",
       "Name: LIFECOSTSCORE, dtype: float64"
      ]
     },
     "execution_count": 26,
     "metadata": {},
     "output_type": "execute_result"
    }
   ],
   "source": [
    "df_worse['LIFECOSTSCORE'].value_counts(normalize = 'True')"
   ]
  },
  {
   "cell_type": "code",
   "execution_count": 27,
   "metadata": {},
   "outputs": [
    {
     "data": {
      "image/png": "[encoded data removed]",
      "text/plain": [
       "<Figure size 720x360 with 1 Axes>"
      ]
     },
     "metadata": {
      "needs_background": "light"
     },
     "output_type": "display_data"
    }
   ],
   "source": [
    "#df_ideal['SEVERITYCODE'].value_counts(normalize=True).plot(kind='bar', figsize = (20,8))\n",
    "\n",
    "ax = df_worse['LIFECOSTSCORE'].value_counts(normalize = True).plot(kind='bar', figsize = (10,5), width = 0.7, color = 'r')\n",
    "ax.grid(False)\n",
    "ax.set_xticklabels(['Life Cost 0','Life Cost 1','Life Cost 2','Life Cost 3','Life Cost 4','Life Cost 5'],fontsize=12, rotation = 0)\n",
    "ax.set_xlabel('Crash Severity', fontsize = 18)\n",
    "ax.set_ylabel('Total Crashes (%)', fontsize = 18)\n",
    "ax.set_facecolor(\"white\")\n",
    "#ax.legend(title = \"Severity Level\",fontsize=14, facecolor = 'white', title_fontsize = 12)\n",
    "ax.spines['bottom'].set_color('0')\n",
    "ax.spines['bottom'].set_linewidth(1)\n",
    "\n",
    "for p in ax.patches:\n",
    "    width = p.get_width()\n",
    "    height = p.get_height()\n",
    "    x, y = p.get_xy() \n",
    "    ax.annotate(f'{height:.3%}', (x + width/2, y + height + 0.005), ha='center', fontsize= 12)"
   ]
  },
  {
   "cell_type": "markdown",
   "metadata": {},
   "source": [
    "We see that although ideal conditions were present, there were still a number of accidents that occured. The reason why may not be captured by our dataset, however we can hypothesize that this is mainly due to human error or due to mechanical issues. Although the pattern is similar for both situations given data from a minor crash up to major crash, we can see a major shift when it is in respect to massive crashes and above. We can see that more crashes are involved in those involved with multiple major injuries and death under non-ideal weather conditions, effectively doubling for crashes with multiple deaths and a 20% increase for those with multiple major injuries and death."
   ]
  },
  {
   "cell_type": "markdown",
   "metadata": {},
   "source": [
    "### Injuries and Road and Weather Conditions"
   ]
  },
  {
   "cell_type": "markdown",
   "metadata": {},
   "source": [
    "We hypothesize that injuries and more severe injuries should occur during unideal conditions."
   ]
  },
  {
   "cell_type": "code",
   "execution_count": 28,
   "metadata": {},
   "outputs": [
    {
     "name": "stdout",
     "output_type": "stream",
     "text": [
      "----Ideal Conditions\n",
      "Injuries: 36120\n",
      "Serious Injuries:  1386\n",
      "----Non-Ideal Conditions\n",
      "Injuries: 43338\n",
      "Serious Injuries:  1879\n"
     ]
    }
   ],
   "source": [
    "print('----Ideal Conditions')\n",
    "print('Injuries:', df_ideal['INJURIES'].sum())\n",
    "print('Serious Injuries: ',df_ideal['SERIOUSINJURIES'].sum())\n",
    "print('----Non-Ideal Conditions')\n",
    "print('Injuries:', df_worse['INJURIES'].sum())\n",
    "print('Serious Injuries: ',df_worse['SERIOUSINJURIES'].sum())"
   ]
  },
  {
   "cell_type": "code",
   "execution_count": 29,
   "metadata": {},
   "outputs": [
    {
     "name": "stdout",
     "output_type": "stream",
     "text": [
      "Increase in Injuries:  0.09084044400815525\n",
      "Increase in Serious Injuries:  0.15099540581929555\n"
     ]
    }
   ],
   "source": [
    "print('Increase in Injuries: ',(43338-36120)/(36120+43338))\n",
    "print('Increase in Serious Injuries: ',(1879-1386)/(1879+1386))"
   ]
  },
  {
   "cell_type": "code",
   "execution_count": 30,
   "metadata": {},
   "outputs": [
    {
     "data": {
      "image/png": "[encoded data removed]",
      "text/plain": [
       "<Figure size 1080x720 with 3 Axes>"
      ]
     },
     "metadata": {
      "needs_background": "light"
     },
     "output_type": "display_data"
    }
   ],
   "source": [
    "df_injuries = pd.DataFrame({'Injuries':[36120,43338],'Serious Injuries':[1386,1879]},index = ['Ideal','Non-Ideal'])\n",
    "\n",
    "fig, (ax1, ax2) = plt.subplots(1, 2, figsize=(15,10))\n",
    "df_injuries['Injuries'].plot(kind='bar', ax = ax1)\n",
    "df_injuries['Serious Injuries'].plot(kind='bar', ax = ax2)\n",
    "\n",
    "fig.add_subplot(111, frameon=False)\n",
    "plt.tick_params(labelcolor='none', top=False, bottom=False, left=False, right=False)\n",
    "plt.xlabel(\"Weather and Road Conditions\", fontsize = 18, labelpad = 20)\n",
    "plt.ylabel(\"Total Injured\", fontsize = 18, labelpad = 20)\n",
    "\n",
    "ax1.set_title(\"Injuries\", fontsize =  14)\n",
    "ax1.set_xticklabels(['Ideal','Non-Ideal'],fontsize=12, rotation = 0)\n",
    "ax1.set_facecolor(\"white\")\n",
    "\n",
    "ax2.set_title(\"Serious Injuries\", fontsize =  14)\n",
    "ax2.set_xticklabels(['Ideal','Non-Ideal'],fontsize=12, rotation = 0)\n",
    "ax2.set_facecolor(\"white\")"
   ]
  },
  {
   "cell_type": "markdown",
   "metadata": {},
   "source": [
    "### Deaths and Road and Weather Conditions"
   ]
  },
  {
   "cell_type": "code",
   "execution_count": 31,
   "metadata": {},
   "outputs": [
    {
     "name": "stdout",
     "output_type": "stream",
     "text": [
      "----Ideal Conditions\n",
      "Deaths: 131\n",
      "----Non-Ideal Conditions\n",
      "Deaths: 224\n"
     ]
    }
   ],
   "source": [
    "print('----Ideal Conditions')\n",
    "print('Deaths:', df_ideal['FATALITIES'].sum())\n",
    "print('----Non-Ideal Conditions')\n",
    "print('Deaths:', df_worse['FATALITIES'].sum())"
   ]
  },
  {
   "cell_type": "code",
   "execution_count": 32,
   "metadata": {},
   "outputs": [
    {
     "data": {
      "image/png": "[encoded data removed]",
      "text/plain": [
       "<Figure size 432x288 with 1 Axes>"
      ]
     },
     "metadata": {
      "needs_background": "light"
     },
     "output_type": "display_data"
    }
   ],
   "source": [
    "df_injuries = pd.DataFrame({'Deaths':[131,224],},index = ['Ideal','Non-Ideal'])\n",
    "\n",
    "ax = df_injuries['Deaths'].plot(kind='bar')\n",
    "#ax.set_title(\"Deaths\", fontsize =  14)\n",
    "ax.set_ylabel('Total Deaths', fontsize = 14)\n",
    "ax.set_xlabel('Road and Weather Conditions', fontsize = 14)\n",
    "ax.set_xticklabels(['Ideal','Non-Ideal'],fontsize=12, rotation = 0)\n",
    "ax.set_facecolor(\"white\")"
   ]
  },
  {
   "cell_type": "code",
   "execution_count": 33,
   "metadata": {},
   "outputs": [
    {
     "name": "stdout",
     "output_type": "stream",
     "text": [
      "Increase in Deaths:  0.2619718309859155\n"
     ]
    }
   ],
   "source": [
    "print('Increase in Deaths: ',(224-131)/(224+131))"
   ]
  },
  {
   "cell_type": "markdown",
   "metadata": {},
   "source": [
    "### Deaths and Injuries with respect to Non-Ideal Weather"
   ]
  },
  {
   "cell_type": "code",
   "execution_count": 34,
   "metadata": {},
   "outputs": [
    {
     "name": "stdout",
     "output_type": "stream",
     "text": [
      "Injuries: WEATHER\n",
      "Cloudy Weather     12262\n",
      "Extreme Weather      537\n",
      "Raining            15727\n",
      "Name: INJURIES, dtype: int64\n",
      "Major Injuries: WEATHER\n",
      "Cloudy Weather     493\n",
      "Extreme Weather     17\n",
      "Raining            563\n",
      "Name: SERIOUSINJURIES, dtype: int64\n",
      "Deaths: WEATHER\n",
      "Cloudy Weather     55\n",
      "Extreme Weather     5\n",
      "Raining            53\n",
      "Name: FATALITIES, dtype: int64\n"
     ]
    }
   ],
   "source": [
    "df_niw = df_worse[df_worse['WEATHER'] !='Clear']\n",
    "\n",
    "print('Injuries:', df_niw.groupby(['WEATHER'])['INJURIES'].sum())\n",
    "print('Major Injuries:', df_niw.groupby(['WEATHER'])['SERIOUSINJURIES'].sum())\n",
    "print('Deaths:', df_niw.groupby(['WEATHER'])['FATALITIES'].sum())"
   ]
  },
  {
   "cell_type": "code",
   "execution_count": 35,
   "metadata": {},
   "outputs": [
    {
     "data": {
      "text/html": [
       "<div>\n",
       "<style scoped>\n",
       "    .dataframe tbody tr th:only-of-type {\n",
       "        vertical-align: middle;\n",
       "    }\n",
       "\n",
       "    .dataframe tbody tr th {\n",
       "        vertical-align: top;\n",
       "    }\n",
       "\n",
       "    .dataframe thead th {\n",
       "        text-align: right;\n",
       "    }\n",
       "</style>\n",
       "<table border=\"1\" class=\"dataframe\">\n",
       "  <thead>\n",
       "    <tr style=\"text-align: right;\">\n",
       "      <th></th>\n",
       "      <th>Rain</th>\n",
       "      <th>Cloudy Weather</th>\n",
       "      <th>Extreme Weather</th>\n",
       "    </tr>\n",
       "  </thead>\n",
       "  <tbody>\n",
       "    <tr>\n",
       "      <th>Injuries</th>\n",
       "      <td>0.362892</td>\n",
       "      <td>0.282939</td>\n",
       "      <td>0.012391</td>\n",
       "    </tr>\n",
       "    <tr>\n",
       "      <th>Major Injuries</th>\n",
       "      <td>0.299627</td>\n",
       "      <td>0.261841</td>\n",
       "      <td>0.009047</td>\n",
       "    </tr>\n",
       "    <tr>\n",
       "      <th>Deaths</th>\n",
       "      <td>0.236607</td>\n",
       "      <td>0.245536</td>\n",
       "      <td>0.022321</td>\n",
       "    </tr>\n",
       "  </tbody>\n",
       "</table>\n",
       "</div>"
      ],
      "text/plain": [
       "                    Rain  Cloudy Weather  Extreme Weather\n",
       "Injuries        0.362892        0.282939         0.012391\n",
       "Major Injuries  0.299627        0.261841         0.009047\n",
       "Deaths          0.236607        0.245536         0.022321"
      ]
     },
     "execution_count": 35,
     "metadata": {},
     "output_type": "execute_result"
    }
   ],
   "source": [
    "cw = [12262/43338,492/1879,55/(224)] \n",
    "ex = [537/43338,17/1879,5/(224)]\n",
    "ra = [15727/43338,563/1879,53/(224)]\n",
    "df_id_niw = pd.DataFrame({'Rain':ra,'Cloudy Weather':cw,'Extreme Weather':ex},index = ['Injuries','Major Injuries','Deaths'])\n",
    "df_id_niw"
   ]
  },
  {
   "cell_type": "code",
   "execution_count": 36,
   "metadata": {},
   "outputs": [
    {
     "data": {
      "image/png": "[encoded data removed]",
      "text/plain": [
       "<Figure size 1440x576 with 1 Axes>"
      ]
     },
     "metadata": {
      "needs_background": "light"
     },
     "output_type": "display_data"
    }
   ],
   "source": [
    "colors = {'Rain': '#5cb85c', 'Cloudy Weather': '#5bc0de', 'Extreme Weather': '#d9534f'} \n",
    "ax = df_id_niw.plot(kind='bar',width = 0.8, figsize = (20,8), color = [colors[i] for i in df_id_niw.columns])\n",
    "ax.grid(False)\n",
    "ax.set_xticklabels(df_id_niw.index, fontsize=16, rotation = 0)\n",
    "ax.set_xlabel('Type of Life Cost Factor (LCF)', fontsize = 18)\n",
    "ax.set_ylabel('Percentage of LCF occuring during NIC (%)', fontsize = 18)\n",
    "ax.set_facecolor(\"white\")\n",
    "ax.legend(fontsize=14, facecolor = 'white', title_fontsize = 12)\n",
    "ax.spines['bottom'].set_color('0')\n",
    "ax.spines['bottom'].set_linewidth(1)\n",
    "\n",
    "for p in ax.patches:\n",
    "    width = p.get_width()\n",
    "    height = p.get_height()\n",
    "    x, y = p.get_xy() \n",
    "    ax.annotate(f'{height:.0%}', (x + width/2, y + height + 0.005), ha='center', fontsize= 14)\n"
   ]
  },
  {
   "cell_type": "markdown",
   "metadata": {},
   "source": [
    "### Deaths and Injuries with respect to Non-Ideal Road Conditions"
   ]
  },
  {
   "cell_type": "code",
   "execution_count": 37,
   "metadata": {},
   "outputs": [
    {
     "name": "stdout",
     "output_type": "stream",
     "text": [
      "Injuries: ROADCOND\n",
      "Oil/Ice         415\n",
      "Snow/Slush      219\n",
      "Wet           22036\n",
      "Name: INJURIES, dtype: int64\n",
      "Major Injuries: ROADCOND\n",
      "Oil/Ice        20\n",
      "Snow/Slush      7\n",
      "Wet           810\n",
      "Name: SERIOUSINJURIES, dtype: int64\n",
      "Deaths: ROADCOND\n",
      "Oil/Ice        1\n",
      "Snow/Slush     0\n",
      "Wet           71\n",
      "Name: FATALITIES, dtype: int64\n"
     ]
    }
   ],
   "source": [
    "df_nir = df_worse[df_worse['ROADCOND'] !='Dry']\n",
    "\n",
    "print('Injuries:', df_nir.groupby(['ROADCOND'])['INJURIES'].sum())\n",
    "print('Major Injuries:', df_nir.groupby(['ROADCOND'])['SERIOUSINJURIES'].sum())\n",
    "print('Deaths:', df_nir.groupby(['ROADCOND'])['FATALITIES'].sum())"
   ]
  },
  {
   "cell_type": "code",
   "execution_count": 38,
   "metadata": {},
   "outputs": [
    {
     "data": {
      "text/html": [
       "<div>\n",
       "<style scoped>\n",
       "    .dataframe tbody tr th:only-of-type {\n",
       "        vertical-align: middle;\n",
       "    }\n",
       "\n",
       "    .dataframe tbody tr th {\n",
       "        vertical-align: top;\n",
       "    }\n",
       "\n",
       "    .dataframe thead th {\n",
       "        text-align: right;\n",
       "    }\n",
       "</style>\n",
       "<table border=\"1\" class=\"dataframe\">\n",
       "  <thead>\n",
       "    <tr style=\"text-align: right;\">\n",
       "      <th></th>\n",
       "      <th>Wet</th>\n",
       "      <th>Snow/Slush</th>\n",
       "      <th>Oil/Ice</th>\n",
       "    </tr>\n",
       "  </thead>\n",
       "  <tbody>\n",
       "    <tr>\n",
       "      <th>Injuries</th>\n",
       "      <td>0.508468</td>\n",
       "      <td>0.005053</td>\n",
       "      <td>0.009576</td>\n",
       "    </tr>\n",
       "    <tr>\n",
       "      <th>Major Injuries</th>\n",
       "      <td>0.431080</td>\n",
       "      <td>0.003725</td>\n",
       "      <td>0.010644</td>\n",
       "    </tr>\n",
       "    <tr>\n",
       "      <th>Deaths</th>\n",
       "      <td>0.316964</td>\n",
       "      <td>0.000000</td>\n",
       "      <td>0.004464</td>\n",
       "    </tr>\n",
       "  </tbody>\n",
       "</table>\n",
       "</div>"
      ],
      "text/plain": [
       "                     Wet  Snow/Slush   Oil/Ice\n",
       "Injuries        0.508468    0.005053  0.009576\n",
       "Major Injuries  0.431080    0.003725  0.010644\n",
       "Deaths          0.316964    0.000000  0.004464"
      ]
     },
     "execution_count": 38,
     "metadata": {},
     "output_type": "execute_result"
    }
   ],
   "source": [
    "oi = [415/43338,20/1879,1/(224)] \n",
    "ss = [219/43338,7/1879,0/(224)]\n",
    "w = [22036/43338,810/1879,71/(224)]\n",
    "df_id_nir = pd.DataFrame({'Wet':w,'Snow/Slush':ss,'Oil/Ice':oi},index = ['Injuries','Major Injuries','Deaths'])\n",
    "df_id_nir"
   ]
  },
  {
   "cell_type": "code",
   "execution_count": 39,
   "metadata": {},
   "outputs": [
    {
     "data": {
      "image/png": "[encoded data removed]",
      "text/plain": [
       "<Figure size 1440x576 with 1 Axes>"
      ]
     },
     "metadata": {
      "needs_background": "light"
     },
     "output_type": "display_data"
    }
   ],
   "source": [
    "colors = {'Wet': '#5cb85c', 'Snow/Slush': '#5bc0de', 'Oil/Ice': '#d9534f'} \n",
    "ax = df_id_nir.plot(kind='bar',width = 0.8, figsize = (20,8), color = [colors[i] for i in df_id_nir.columns])\n",
    "ax.grid(False)\n",
    "ax.set_xticklabels(df_id_nir.index, fontsize=16, rotation = 0)\n",
    "ax.set_xlabel('Type of Life Cost Factor (LCF)', fontsize = 18)\n",
    "ax.set_ylabel('Percentage of LCF occuring during NIC (%)', fontsize = 18)\n",
    "ax.set_facecolor(\"white\")\n",
    "ax.legend(fontsize=14, facecolor = 'white', title_fontsize = 12)\n",
    "ax.spines['bottom'].set_color('0')\n",
    "ax.spines['bottom'].set_linewidth(1)\n",
    "\n",
    "for p in ax.patches:\n",
    "    width = p.get_width()\n",
    "    height = p.get_height()\n",
    "    x, y = p.get_xy() \n",
    "    ax.annotate(f'{height:.0%}', (x + width/2, y + height + 0.005), ha='center', fontsize= 14)\n"
   ]
  },
  {
   "cell_type": "markdown",
   "metadata": {},
   "source": [
    "### Deaths and Injuries with respect to Non-Ideal Light Conditions"
   ]
  },
  {
   "cell_type": "code",
   "execution_count": 40,
   "metadata": {},
   "outputs": [
    {
     "name": "stdout",
     "output_type": "stream",
     "text": [
      "Injuries: LIGHTCOND\n",
      "Fairly Lit    24751\n",
      "Poorly Lit      936\n",
      "Name: INJURIES, dtype: int64\n",
      "Major Injuries: LIGHTCOND\n",
      "Fairly Lit    1287\n",
      "Poorly Lit      56\n",
      "Name: SERIOUSINJURIES, dtype: int64\n",
      "Deaths: LIGHTCOND\n",
      "Fairly Lit    176\n",
      "Poorly Lit      4\n",
      "Name: FATALITIES, dtype: int64\n"
     ]
    }
   ],
   "source": [
    "df_nil = df_worse[df_worse['LIGHTCOND'] !='Well Lit']\n",
    "\n",
    "print('Injuries:', df_nil.groupby(['LIGHTCOND'])['INJURIES'].sum())\n",
    "print('Major Injuries:', df_nil.groupby(['LIGHTCOND'])['SERIOUSINJURIES'].sum())\n",
    "print('Deaths:', df_nil.groupby(['LIGHTCOND'])['FATALITIES'].sum())"
   ]
  },
  {
   "cell_type": "code",
   "execution_count": 41,
   "metadata": {},
   "outputs": [
    {
     "data": {
      "text/html": [
       "<div>\n",
       "<style scoped>\n",
       "    .dataframe tbody tr th:only-of-type {\n",
       "        vertical-align: middle;\n",
       "    }\n",
       "\n",
       "    .dataframe tbody tr th {\n",
       "        vertical-align: top;\n",
       "    }\n",
       "\n",
       "    .dataframe thead th {\n",
       "        text-align: right;\n",
       "    }\n",
       "</style>\n",
       "<table border=\"1\" class=\"dataframe\">\n",
       "  <thead>\n",
       "    <tr style=\"text-align: right;\">\n",
       "      <th></th>\n",
       "      <th>Fairly Lit</th>\n",
       "      <th>Poorly Lit</th>\n",
       "    </tr>\n",
       "  </thead>\n",
       "  <tbody>\n",
       "    <tr>\n",
       "      <th>Injuries</th>\n",
       "      <td>0.571115</td>\n",
       "      <td>0.021598</td>\n",
       "    </tr>\n",
       "    <tr>\n",
       "      <th>Major Injuries</th>\n",
       "      <td>0.684939</td>\n",
       "      <td>0.029803</td>\n",
       "    </tr>\n",
       "    <tr>\n",
       "      <th>Deaths</th>\n",
       "      <td>0.785714</td>\n",
       "      <td>0.017857</td>\n",
       "    </tr>\n",
       "  </tbody>\n",
       "</table>\n",
       "</div>"
      ],
      "text/plain": [
       "                Fairly Lit  Poorly Lit\n",
       "Injuries          0.571115    0.021598\n",
       "Major Injuries    0.684939    0.029803\n",
       "Deaths            0.785714    0.017857"
      ]
     },
     "execution_count": 41,
     "metadata": {},
     "output_type": "execute_result"
    }
   ],
   "source": [
    "fl = [24751/43338,1287/1879,176/(224)] \n",
    "pl = [936/43338,56/1879,4/(224)]\n",
    "df_id_nil = pd.DataFrame({'Fairly Lit':fl,'Poorly Lit':pl},index = ['Injuries','Major Injuries','Deaths'])\n",
    "df_id_nil"
   ]
  },
  {
   "cell_type": "code",
   "execution_count": 42,
   "metadata": {},
   "outputs": [
    {
     "data": {
      "image/png": "[encoded data removed]",
      "text/plain": [
       "<Figure size 1440x576 with 1 Axes>"
      ]
     },
     "metadata": {
      "needs_background": "light"
     },
     "output_type": "display_data"
    }
   ],
   "source": [
    "colors = {'Fairly Lit': '#5bc0de', 'Poorly Lit': '#d9534f'} \n",
    "ax = df_id_nil.plot(kind='bar',width = 0.8, figsize = (20,8), color = [colors[i] for i in df_id_nil.columns])\n",
    "ax.grid(False)\n",
    "ax.set_xticklabels(df_id_nil.index, fontsize=16, rotation = 0)\n",
    "ax.set_xlabel('Type of Life Cost Factor (LCF)', fontsize = 18)\n",
    "ax.set_ylabel('Percentage of LCF occuring during NIC (%)', fontsize = 18)\n",
    "ax.set_facecolor(\"white\")\n",
    "ax.legend(fontsize=14, facecolor = 'white', title_fontsize = 12)\n",
    "ax.spines['bottom'].set_color('0')\n",
    "ax.spines['bottom'].set_linewidth(1)\n",
    "\n",
    "for p in ax.patches:\n",
    "    width = p.get_width()\n",
    "    height = p.get_height()\n",
    "    x, y = p.get_xy() \n",
    "    ax.annotate(f'{height:.0%}', (x + width/2, y + height + 0.005), ha='center', fontsize= 14)\n"
   ]
  },
  {
   "cell_type": "markdown",
   "metadata": {},
   "source": [
    "## Predictive Modeling"
   ]
  },
  {
   "cell_type": "code",
   "execution_count": 43,
   "metadata": {},
   "outputs": [
    {
     "data": {
      "text/html": [
       "<div>\n",
       "<style scoped>\n",
       "    .dataframe tbody tr th:only-of-type {\n",
       "        vertical-align: middle;\n",
       "    }\n",
       "\n",
       "    .dataframe tbody tr th {\n",
       "        vertical-align: top;\n",
       "    }\n",
       "\n",
       "    .dataframe thead th {\n",
       "        text-align: right;\n",
       "    }\n",
       "</style>\n",
       "<table border=\"1\" class=\"dataframe\">\n",
       "  <thead>\n",
       "    <tr style=\"text-align: right;\">\n",
       "      <th></th>\n",
       "      <th>VEHCOUNT</th>\n",
       "      <th>INJURIES</th>\n",
       "      <th>SERIOUSINJURIES</th>\n",
       "      <th>FATALITIES</th>\n",
       "      <th>WEATHER</th>\n",
       "      <th>ROADCOND</th>\n",
       "      <th>LIGHTCOND</th>\n",
       "      <th>LIFECOST</th>\n",
       "      <th>LIFECOSTSCORE</th>\n",
       "    </tr>\n",
       "  </thead>\n",
       "  <tbody>\n",
       "    <tr>\n",
       "      <th>0</th>\n",
       "      <td>2</td>\n",
       "      <td>1</td>\n",
       "      <td>0</td>\n",
       "      <td>0</td>\n",
       "      <td>Cloudy Weather</td>\n",
       "      <td>Dry</td>\n",
       "      <td>Well Lit</td>\n",
       "      <td>12</td>\n",
       "      <td>1</td>\n",
       "    </tr>\n",
       "    <tr>\n",
       "      <th>3</th>\n",
       "      <td>4</td>\n",
       "      <td>0</td>\n",
       "      <td>0</td>\n",
       "      <td>0</td>\n",
       "      <td>Raining</td>\n",
       "      <td>Wet</td>\n",
       "      <td>Fairly Lit</td>\n",
       "      <td>4</td>\n",
       "      <td>0</td>\n",
       "    </tr>\n",
       "    <tr>\n",
       "      <th>6</th>\n",
       "      <td>1</td>\n",
       "      <td>0</td>\n",
       "      <td>0</td>\n",
       "      <td>0</td>\n",
       "      <td>Clear</td>\n",
       "      <td>Dry</td>\n",
       "      <td>Fairly Lit</td>\n",
       "      <td>1</td>\n",
       "      <td>0</td>\n",
       "    </tr>\n",
       "    <tr>\n",
       "      <th>8</th>\n",
       "      <td>2</td>\n",
       "      <td>0</td>\n",
       "      <td>0</td>\n",
       "      <td>0</td>\n",
       "      <td>Raining</td>\n",
       "      <td>Wet</td>\n",
       "      <td>Well Lit</td>\n",
       "      <td>2</td>\n",
       "      <td>0</td>\n",
       "    </tr>\n",
       "    <tr>\n",
       "      <th>10</th>\n",
       "      <td>2</td>\n",
       "      <td>0</td>\n",
       "      <td>0</td>\n",
       "      <td>0</td>\n",
       "      <td>Clear</td>\n",
       "      <td>Dry</td>\n",
       "      <td>Fairly Lit</td>\n",
       "      <td>2</td>\n",
       "      <td>0</td>\n",
       "    </tr>\n",
       "  </tbody>\n",
       "</table>\n",
       "</div>"
      ],
      "text/plain": [
       "    VEHCOUNT  INJURIES  SERIOUSINJURIES  FATALITIES         WEATHER ROADCOND  \\\n",
       "0          2         1                0           0  Cloudy Weather      Dry   \n",
       "3          4         0                0           0         Raining      Wet   \n",
       "6          1         0                0           0           Clear      Dry   \n",
       "8          2         0                0           0         Raining      Wet   \n",
       "10         2         0                0           0           Clear      Dry   \n",
       "\n",
       "     LIGHTCOND  LIFECOST  LIFECOSTSCORE  \n",
       "0     Well Lit        12              1  \n",
       "3   Fairly Lit         4              0  \n",
       "6   Fairly Lit         1              0  \n",
       "8     Well Lit         2              0  \n",
       "10  Fairly Lit         2              0  "
      ]
     },
     "execution_count": 43,
     "metadata": {},
     "output_type": "execute_result"
    }
   ],
   "source": [
    "df_worse.head()"
   ]
  },
  {
   "cell_type": "code",
   "execution_count": 44,
   "metadata": {},
   "outputs": [],
   "source": [
    "X = pd.get_dummies(df_worse[['WEATHER','ROADCOND','LIGHTCOND']],drop_first = True)\n",
    "y = df_worse['LIFECOSTSCORE']"
   ]
  },
  {
   "cell_type": "code",
   "execution_count": 45,
   "metadata": {},
   "outputs": [
    {
     "data": {
      "text/html": [
       "<div>\n",
       "<style scoped>\n",
       "    .dataframe tbody tr th:only-of-type {\n",
       "        vertical-align: middle;\n",
       "    }\n",
       "\n",
       "    .dataframe tbody tr th {\n",
       "        vertical-align: top;\n",
       "    }\n",
       "\n",
       "    .dataframe thead th {\n",
       "        text-align: right;\n",
       "    }\n",
       "</style>\n",
       "<table border=\"1\" class=\"dataframe\">\n",
       "  <thead>\n",
       "    <tr style=\"text-align: right;\">\n",
       "      <th></th>\n",
       "      <th>WEATHER_Cloudy Weather</th>\n",
       "      <th>WEATHER_Extreme Weather</th>\n",
       "      <th>WEATHER_Raining</th>\n",
       "      <th>ROADCOND_Oil/Ice</th>\n",
       "      <th>ROADCOND_Snow/Slush</th>\n",
       "      <th>ROADCOND_Wet</th>\n",
       "      <th>LIGHTCOND_Poorly Lit</th>\n",
       "      <th>LIGHTCOND_Well Lit</th>\n",
       "    </tr>\n",
       "  </thead>\n",
       "  <tbody>\n",
       "    <tr>\n",
       "      <th>0</th>\n",
       "      <td>1</td>\n",
       "      <td>0</td>\n",
       "      <td>0</td>\n",
       "      <td>0</td>\n",
       "      <td>0</td>\n",
       "      <td>0</td>\n",
       "      <td>0</td>\n",
       "      <td>1</td>\n",
       "    </tr>\n",
       "    <tr>\n",
       "      <th>3</th>\n",
       "      <td>0</td>\n",
       "      <td>0</td>\n",
       "      <td>1</td>\n",
       "      <td>0</td>\n",
       "      <td>0</td>\n",
       "      <td>1</td>\n",
       "      <td>0</td>\n",
       "      <td>0</td>\n",
       "    </tr>\n",
       "    <tr>\n",
       "      <th>6</th>\n",
       "      <td>0</td>\n",
       "      <td>0</td>\n",
       "      <td>0</td>\n",
       "      <td>0</td>\n",
       "      <td>0</td>\n",
       "      <td>0</td>\n",
       "      <td>0</td>\n",
       "      <td>0</td>\n",
       "    </tr>\n",
       "    <tr>\n",
       "      <th>8</th>\n",
       "      <td>0</td>\n",
       "      <td>0</td>\n",
       "      <td>1</td>\n",
       "      <td>0</td>\n",
       "      <td>0</td>\n",
       "      <td>1</td>\n",
       "      <td>0</td>\n",
       "      <td>1</td>\n",
       "    </tr>\n",
       "    <tr>\n",
       "      <th>10</th>\n",
       "      <td>0</td>\n",
       "      <td>0</td>\n",
       "      <td>0</td>\n",
       "      <td>0</td>\n",
       "      <td>0</td>\n",
       "      <td>0</td>\n",
       "      <td>0</td>\n",
       "      <td>0</td>\n",
       "    </tr>\n",
       "    <tr>\n",
       "      <th>...</th>\n",
       "      <td>...</td>\n",
       "      <td>...</td>\n",
       "      <td>...</td>\n",
       "      <td>...</td>\n",
       "      <td>...</td>\n",
       "      <td>...</td>\n",
       "      <td>...</td>\n",
       "      <td>...</td>\n",
       "    </tr>\n",
       "    <tr>\n",
       "      <th>220927</th>\n",
       "      <td>1</td>\n",
       "      <td>0</td>\n",
       "      <td>0</td>\n",
       "      <td>0</td>\n",
       "      <td>0</td>\n",
       "      <td>0</td>\n",
       "      <td>0</td>\n",
       "      <td>1</td>\n",
       "    </tr>\n",
       "    <tr>\n",
       "      <th>220929</th>\n",
       "      <td>0</td>\n",
       "      <td>0</td>\n",
       "      <td>1</td>\n",
       "      <td>0</td>\n",
       "      <td>0</td>\n",
       "      <td>1</td>\n",
       "      <td>0</td>\n",
       "      <td>0</td>\n",
       "    </tr>\n",
       "    <tr>\n",
       "      <th>220930</th>\n",
       "      <td>1</td>\n",
       "      <td>0</td>\n",
       "      <td>0</td>\n",
       "      <td>0</td>\n",
       "      <td>0</td>\n",
       "      <td>0</td>\n",
       "      <td>0</td>\n",
       "      <td>1</td>\n",
       "    </tr>\n",
       "    <tr>\n",
       "      <th>220931</th>\n",
       "      <td>0</td>\n",
       "      <td>0</td>\n",
       "      <td>1</td>\n",
       "      <td>0</td>\n",
       "      <td>0</td>\n",
       "      <td>1</td>\n",
       "      <td>0</td>\n",
       "      <td>1</td>\n",
       "    </tr>\n",
       "    <tr>\n",
       "      <th>220933</th>\n",
       "      <td>0</td>\n",
       "      <td>0</td>\n",
       "      <td>0</td>\n",
       "      <td>0</td>\n",
       "      <td>0</td>\n",
       "      <td>0</td>\n",
       "      <td>0</td>\n",
       "      <td>0</td>\n",
       "    </tr>\n",
       "  </tbody>\n",
       "</table>\n",
       "<p>97303 rows × 8 columns</p>\n",
       "</div>"
      ],
      "text/plain": [
       "        WEATHER_Cloudy Weather  WEATHER_Extreme Weather  WEATHER_Raining  \\\n",
       "0                            1                        0                0   \n",
       "3                            0                        0                1   \n",
       "6                            0                        0                0   \n",
       "8                            0                        0                1   \n",
       "10                           0                        0                0   \n",
       "...                        ...                      ...              ...   \n",
       "220927                       1                        0                0   \n",
       "220929                       0                        0                1   \n",
       "220930                       1                        0                0   \n",
       "220931                       0                        0                1   \n",
       "220933                       0                        0                0   \n",
       "\n",
       "        ROADCOND_Oil/Ice  ROADCOND_Snow/Slush  ROADCOND_Wet  \\\n",
       "0                      0                    0             0   \n",
       "3                      0                    0             1   \n",
       "6                      0                    0             0   \n",
       "8                      0                    0             1   \n",
       "10                     0                    0             0   \n",
       "...                  ...                  ...           ...   \n",
       "220927                 0                    0             0   \n",
       "220929                 0                    0             1   \n",
       "220930                 0                    0             0   \n",
       "220931                 0                    0             1   \n",
       "220933                 0                    0             0   \n",
       "\n",
       "        LIGHTCOND_Poorly Lit  LIGHTCOND_Well Lit  \n",
       "0                          0                   1  \n",
       "3                          0                   0  \n",
       "6                          0                   0  \n",
       "8                          0                   1  \n",
       "10                         0                   0  \n",
       "...                      ...                 ...  \n",
       "220927                     0                   1  \n",
       "220929                     0                   0  \n",
       "220930                     0                   1  \n",
       "220931                     0                   1  \n",
       "220933                     0                   0  \n",
       "\n",
       "[97303 rows x 8 columns]"
      ]
     },
     "execution_count": 45,
     "metadata": {},
     "output_type": "execute_result"
    }
   ],
   "source": [
    "X"
   ]
  },
  {
   "cell_type": "code",
   "execution_count": 46,
   "metadata": {},
   "outputs": [
    {
     "data": {
      "text/plain": [
       "Index(['WEATHER_Cloudy Weather', 'WEATHER_Extreme Weather', 'WEATHER_Raining',\n",
       "       'ROADCOND_Oil/Ice', 'ROADCOND_Snow/Slush', 'ROADCOND_Wet',\n",
       "       'LIGHTCOND_Poorly Lit', 'LIGHTCOND_Well Lit'],\n",
       "      dtype='object')"
      ]
     },
     "execution_count": 46,
     "metadata": {},
     "output_type": "execute_result"
    }
   ],
   "source": [
    "X.columns"
   ]
  },
  {
   "cell_type": "markdown",
   "metadata": {},
   "source": [
    "# K Nearest Neighbor(KNN)"
   ]
  },
  {
   "cell_type": "code",
   "execution_count": 48,
   "metadata": {},
   "outputs": [
    {
     "name": "stdout",
     "output_type": "stream",
     "text": [
      "Train set: (82221, 8) (82221,)\n",
      "Test set: (15082, 8) (15082,)\n"
     ]
    }
   ],
   "source": [
    "from sklearn.neighbors import KNeighborsClassifier\n",
    "from sklearn.model_selection import train_test_split\n",
    "from sklearn import metrics\n",
    "from tqdm import tqdm\n",
    "\n",
    "X_train, X_test, y_train, y_test = train_test_split( X, y, test_size=0.155, random_state=4)\n",
    "print ('Train set:', X_train.shape,  y_train.shape)\n",
    "print ('Test set:', X_test.shape,  y_test.shape)"
   ]
  },
  {
   "cell_type": "markdown",
   "metadata": {},
   "source": [
    "## Searching for most accurate k value"
   ]
  },
  {
   "cell_type": "code",
   "execution_count": 48,
   "metadata": {},
   "outputs": [
    {
     "name": "stderr",
     "output_type": "stream",
     "text": [
      "100%|████████████████████████████████████████████████████████████████████████████████████| 9/9 [07:50<00:00, 52.31s/it]\n"
     ]
    },
    {
     "data": {
      "text/plain": [
       "array([0.64328338, 0.65349423, 0.6513725 , 0.65223445, 0.64951598,\n",
       "       0.65243336, 0.65243336, 0.67557353, 0.67404853])"
      ]
     },
     "execution_count": 48,
     "metadata": {},
     "output_type": "execute_result"
    }
   ],
   "source": [
    "Ks = 10\n",
    "mean_acc = np.zeros((Ks-1))\n",
    "std_acc = np.zeros((Ks-1))\n",
    "ConfustionMx = [];\n",
    "for n in tqdm(range(1,Ks)):\n",
    "     \n",
    "    neigh = KNeighborsClassifier(n_neighbors = n).fit(X_train,y_train)\n",
    "    yhat=neigh.predict(X_test)\n",
    "    mean_acc[n-1] = metrics.accuracy_score(y_test, yhat)\n",
    "\n",
    "    \n",
    "    std_acc[n-1]=np.std(yhat==y_test)/np.sqrt(yhat.shape[0])\n",
    "\n",
    "mean_acc"
   ]
  },
  {
   "cell_type": "code",
   "execution_count": 49,
   "metadata": {},
   "outputs": [
    {
     "data": {
      "image/png": "[encoded data removed]",
      "text/plain": [
       "<Figure size 432x288 with 1 Axes>"
      ]
     },
     "metadata": {
      "needs_background": "light"
     },
     "output_type": "display_data"
    }
   ],
   "source": [
    "plt.plot(range(1,Ks),mean_acc,'g')\n",
    "plt.fill_between(range(1,Ks),mean_acc - 1 * std_acc,mean_acc + 1 * std_acc, alpha=0.10)\n",
    "plt.legend(('Accuracy ', '+/- 3xstd'))\n",
    "plt.ylabel('Accuracy ')\n",
    "plt.xlabel('Number of Nabors (K)')\n",
    "plt.tight_layout()\n",
    "plt.show()"
   ]
  },
  {
   "cell_type": "code",
   "execution_count": 50,
   "metadata": {},
   "outputs": [],
   "source": [
    "KNN_model = KNeighborsClassifier(n_neighbors = 8).fit(X_train,y_train)"
   ]
  },
  {
   "cell_type": "markdown",
   "metadata": {},
   "source": [
    "# Decision Tree"
   ]
  },
  {
   "cell_type": "code",
   "execution_count": 51,
   "metadata": {},
   "outputs": [],
   "source": [
    "from sklearn.tree import DecisionTreeClassifier\n",
    "\n",
    "decisionTree = DecisionTreeClassifier(criterion=\"entropy\", max_depth = 20).fit(X_train,y_train)"
   ]
  },
  {
   "cell_type": "markdown",
   "metadata": {},
   "source": [
    "# Support vector machines"
   ]
  },
  {
   "cell_type": "code",
   "execution_count": 52,
   "metadata": {},
   "outputs": [
    {
     "name": "stderr",
     "output_type": "stream",
     "text": [
      " 25%|████████████████████▊                                                              | 1/4 [06:08<18:24, 368.11s/it]"
     ]
    },
    {
     "name": "stdout",
     "output_type": "stream",
     "text": [
      "The accuracy of the SVM with kernel = rbf is equal to 0.6755735313618884\n"
     ]
    },
    {
     "name": "stderr",
     "output_type": "stream",
     "text": [
      "\r",
      " 50%|█████████████████████████████████████████▌                                         | 2/4 [10:13<11:02, 331.21s/it]"
     ]
    },
    {
     "name": "stdout",
     "output_type": "stream",
     "text": [
      "The accuracy of the SVM with kernel = linear is equal to 0.6755735313618884\n"
     ]
    },
    {
     "name": "stderr",
     "output_type": "stream",
     "text": [
      "\r",
      " 75%|██████████████████████████████████████████████████████████████▎                    | 3/4 [16:26<05:43, 343.72s/it]"
     ]
    },
    {
     "name": "stdout",
     "output_type": "stream",
     "text": [
      "The accuracy of the SVM with kernel = poly is equal to 0.6755735313618884\n"
     ]
    },
    {
     "name": "stderr",
     "output_type": "stream",
     "text": [
      "100%|███████████████████████████████████████████████████████████████████████████████████| 4/4 [31:40<00:00, 475.08s/it]"
     ]
    },
    {
     "name": "stdout",
     "output_type": "stream",
     "text": [
      "The accuracy of the SVM with kernel = sigmoid is equal to 0.5944834902532821\n"
     ]
    },
    {
     "name": "stderr",
     "output_type": "stream",
     "text": [
      "\n"
     ]
    }
   ],
   "source": [
    "from sklearn import svm\n",
    "kernels = ['rbf','linear','poly','sigmoid']\n",
    "for kern in tqdm(kernels):\n",
    "    SVM_model = svm.SVC(kernel = kern).fit(X_train,y_train)\n",
    "    yhat = SVM_model.predict(X_test)\n",
    "    acc = metrics.accuracy_score(y_test,yhat)\n",
    "    print(f'The accuracy of the SVM with kernel = {kern} is equal to {acc}') #\n"
   ]
  },
  {
   "cell_type": "code",
   "execution_count": 58,
   "metadata": {},
   "outputs": [],
   "source": [
    "clf = svm.SVC(kernel = 'rbf', probability = True).fit(X_train,y_train)"
   ]
  },
  {
   "cell_type": "markdown",
   "metadata": {},
   "source": [
    "# Logistic Regression"
   ]
  },
  {
   "cell_type": "code",
   "execution_count": 47,
   "metadata": {},
   "outputs": [],
   "source": [
    "from sklearn.linear_model import LogisticRegression\n",
    "from sklearn.model_selection import GridSearchCV\n",
    "\n",
    "params1 = [{'C':[1,0.1,0.01,0.001,0.0001],\n",
    "           'solver':['liblinear', 'newton-cg', 'lbfgs', 'liblinear', 'sag', 'saga']\n",
    "           }]\n",
    "LR = LogisticRegression()\n",
    "LR_Grid = GridSearchCV(LR, params1,cv=4)\n",
    "LR_Grid.fit(X_train,y_train) "
   ]
  },
  {
   "cell_type": "code",
   "execution_count": 54,
   "metadata": {},
   "outputs": [
    {
     "name": "stdout",
     "output_type": "stream",
     "text": [
      "Grid Search yielded the best score for logistic regression as : 0.6659247641899159 with parameters : {'C': 1, 'solver': 'liblinear'}\n"
     ]
    }
   ],
   "source": [
    "print(f'Grid Search yielded the best score for logistic regression as : {LR_Grid.best_score_} with parameters : {LR_Grid.best_params_}')"
   ]
  },
  {
   "cell_type": "code",
   "execution_count": 49,
   "metadata": {},
   "outputs": [
    {
     "name": "stderr",
     "output_type": "stream",
     "text": [
      "D:\\Downloads\\Anaconda3\\lib\\site-packages\\sklearn\\linear_model\\logistic.py:469: FutureWarning: Default multi_class will be changed to 'auto' in 0.22. Specify the multi_class option to silence this warning.\n",
      "  \"this warning.\", FutureWarning)\n"
     ]
    }
   ],
   "source": [
    "LR_model = LogisticRegression(C = 1, solver ='liblinear').fit(X_train, y_train)"
   ]
  },
  {
   "cell_type": "markdown",
   "metadata": {},
   "source": [
    "## Evaluating the Models with Test Set"
   ]
  },
  {
   "cell_type": "code",
   "execution_count": 50,
   "metadata": {},
   "outputs": [],
   "source": [
    "#k-Nearest Neighbors\n",
    "yhat_knn = KNN_model.predict(X_test)\n",
    "prob_knn = KNN_model.predict_proba(X_test)\n",
    "\n",
    "#Decision Tree\n",
    "yhat_dt = decisionTree.predict(X_test)\n",
    "prob_dt = decisionTree.predict_proba(X_test)\n",
    "\n",
    "#SVM\n",
    "yhat_svm = clf.predict(X_test)\n",
    "prob_svm = clf.predict_proba(X_test)\n",
    "\n",
    "#Logistic Regression\n",
    "yhat_lr = LR_model.predict(X_test)\n",
    "prob_lr = LR_model.predict_proba(X_test)"
   ]
  },
  {
   "cell_type": "code",
   "execution_count": 62,
   "metadata": {},
   "outputs": [
    {
     "name": "stdout",
     "output_type": "stream",
     "text": [
      "K-Nearest Neighbors\n",
      "\t Jaccard Score: 0.676\n",
      "\t F1-Score: 0.545\n",
      "\t Log-Loss: 2.645\n",
      "Decision Tree\n",
      "\t Jaccard Score: 0.676\n",
      "\t F1-Score: 0.545\n",
      "\t Log-Loss: 0.723\n",
      "SVM\n",
      "\t Jaccard Score: 0.676\n",
      "\t F1-Score: 0.545\n",
      "\t Log-Loss: 0.722\n",
      "Logistic Regression\n",
      "\t Jaccard Score: 0.676\n",
      "\t F1-Score: 0.545\n",
      "\t Log-Loss: 0.718\n"
     ]
    },
    {
     "name": "stderr",
     "output_type": "stream",
     "text": [
      "D:\\Downloads\\Anaconda3\\envs\\sgraph\\lib\\site-packages\\sklearn\\metrics\\_classification.py:664: FutureWarning: jaccard_similarity_score has been deprecated and replaced with jaccard_score. It will be removed in version 0.23. This implementation has surprising behavior for binary and multiclass classification tasks.\n",
      "  FutureWarning)\n",
      "D:\\Downloads\\Anaconda3\\envs\\sgraph\\lib\\site-packages\\sklearn\\metrics\\_classification.py:664: FutureWarning: jaccard_similarity_score has been deprecated and replaced with jaccard_score. It will be removed in version 0.23. This implementation has surprising behavior for binary and multiclass classification tasks.\n",
      "  FutureWarning)\n",
      "D:\\Downloads\\Anaconda3\\envs\\sgraph\\lib\\site-packages\\sklearn\\metrics\\_classification.py:664: FutureWarning: jaccard_similarity_score has been deprecated and replaced with jaccard_score. It will be removed in version 0.23. This implementation has surprising behavior for binary and multiclass classification tasks.\n",
      "  FutureWarning)\n",
      "D:\\Downloads\\Anaconda3\\envs\\sgraph\\lib\\site-packages\\sklearn\\metrics\\_classification.py:664: FutureWarning: jaccard_similarity_score has been deprecated and replaced with jaccard_score. It will be removed in version 0.23. This implementation has surprising behavior for binary and multiclass classification tasks.\n",
      "  FutureWarning)\n"
     ]
    }
   ],
   "source": [
    "from sklearn.metrics import jaccard_similarity_score\n",
    "from sklearn.metrics import f1_score\n",
    "from sklearn.metrics import log_loss\n",
    "\n",
    "yhats = [yhat_knn,yhat_dt,yhat_svm,yhat_lr]\n",
    "probs = [prob_knn,prob_dt,prob_svm,prob_lr]\n",
    "scores = []\n",
    "for i in range(len(probs)):\n",
    "    s1 = jaccard_similarity_score(y_test,yhats[i])\n",
    "    s2 = f1_score(y_test,yhats[i], average='weighted')\n",
    "    s3 = log_loss(y_test,probs[i])\n",
    "    sc = [s1,s2,s3]\n",
    "    scores.append(sc)\n",
    "\n",
    "\n",
    "names = ['K-Nearest Neighbors', 'Decision Tree', 'SVM', 'Logistic Regression']\n",
    "for i in range(len(names)):\n",
    "    print(f'{names[i]}')\n",
    "    print('\\t Jaccard Score: {:.3f}'.format(scores[i][0]))\n",
    "    print('\\t F1-Score: {:.3f}'.format(scores[i][1]))\n",
    "    print('\\t Log-Loss: {:.3f}'.format(scores[i][2]))    "
   ]
  },
  {
   "cell_type": "code",
   "execution_count": 51,
   "metadata": {},
   "outputs": [
    {
     "data": {
      "text/plain": [
       "[[0, 0, 0, 0, 0, 0, 0, 0],\n",
       " [1, 0, 0, 1, 0, 0, 1, 0],\n",
       " [0, 1, 0, 0, 0, 0, 0, 0],\n",
       " [0, 0, 1, 0, 0, 0, 0, 0],\n",
       " [0, 0, 0, 1, 0, 0, 0, 0],\n",
       " [0, 0, 0, 0, 1, 0, 0, 0],\n",
       " [0, 0, 0, 0, 0, 1, 0, 0],\n",
       " [0, 0, 0, 0, 0, 0, 1, 0],\n",
       " [0, 0, 0, 0, 0, 0, 0, 1]]"
      ]
     },
     "execution_count": 51,
     "metadata": {},
     "output_type": "execute_result"
    }
   ],
   "source": [
    "#Ideal Weather, #Cloudy Weather #Extreme Weather #Raining #Oil/Ice #Snow/Slush #Wet #Poorly Lit #Well Lit\n",
    "solo_conditions = [[0,0,0,0,0,0,0,0],\n",
    "[1,0,0,1,0,0,1,0],\n",
    "[0,1,0,0,0,0,0,0],\n",
    "[0,0,1,0,0,0,0,0],\n",
    "[0,0,0,1,0,0,0,0], \n",
    "[0,0,0,0,1,0,0,0], \n",
    "[0,0,0,0,0,1,0,0], \n",
    "[0,0,0,0,0,0,1,0],\n",
    "[0,0,0,0,0,0,0,1]] \n",
    "solo_conditions"
   ]
  },
  {
   "cell_type": "code",
   "execution_count": 52,
   "metadata": {},
   "outputs": [
    {
     "name": "stdout",
     "output_type": "stream",
     "text": [
      "Under Ideal Weather the chances of accidents of the varying severity levels are:\n",
      "\t\tLIFECOST 0: 67.63\n",
      "\t\tLIFECOST 1: 29.60\n",
      "\t\tLIFECOST 2: 0.26\n",
      "\t\tLIFECOST 3: 2.13\n",
      "\t\tLIFECOST 4: 0.34\n",
      "\t\tLIFECOST 5: 0.05\n",
      "Under Cloudy Weather the chances of accidents of the varying severity levels are:\n",
      "\t\tLIFECOST 0: 78.84\n",
      "\t\tLIFECOST 1: 18.73\n",
      "\t\tLIFECOST 2: 0.06\n",
      "\t\tLIFECOST 3: 2.21\n",
      "\t\tLIFECOST 4: 0.15\n",
      "\t\tLIFECOST 5: 0.01\n",
      "Under Extreme Weather the chances of accidents of the varying severity levels are:\n",
      "\t\tLIFECOST 0: 68.55\n",
      "\t\tLIFECOST 1: 29.52\n",
      "\t\tLIFECOST 2: 0.12\n",
      "\t\tLIFECOST 3: 1.31\n",
      "\t\tLIFECOST 4: 0.43\n",
      "\t\tLIFECOST 5: 0.07\n",
      "Under Raining the chances of accidents of the varying severity levels are:\n",
      "\t\tLIFECOST 0: 66.43\n",
      "\t\tLIFECOST 1: 30.75\n",
      "\t\tLIFECOST 2: 0.39\n",
      "\t\tLIFECOST 3: 2.06\n",
      "\t\tLIFECOST 4: 0.34\n",
      "\t\tLIFECOST 5: 0.03\n",
      "Under Oil/Ice the chances of accidents of the varying severity levels are:\n",
      "\t\tLIFECOST 0: 73.62\n",
      "\t\tLIFECOST 1: 23.93\n",
      "\t\tLIFECOST 2: 0.10\n",
      "\t\tLIFECOST 3: 2.11\n",
      "\t\tLIFECOST 4: 0.20\n",
      "\t\tLIFECOST 5: 0.04\n",
      "Under Snow/Slush the chances of accidents of the varying severity levels are:\n",
      "\t\tLIFECOST 0: 79.65\n",
      "\t\tLIFECOST 1: 18.11\n",
      "\t\tLIFECOST 2: 0.47\n",
      "\t\tLIFECOST 3: 1.60\n",
      "\t\tLIFECOST 4: 0.14\n",
      "\t\tLIFECOST 5: 0.04\n",
      "Under Wet the chances of accidents of the varying severity levels are:\n",
      "\t\tLIFECOST 0: 66.71\n",
      "\t\tLIFECOST 1: 30.93\n",
      "\t\tLIFECOST 2: 0.15\n",
      "\t\tLIFECOST 3: 1.99\n",
      "\t\tLIFECOST 4: 0.19\n",
      "\t\tLIFECOST 5: 0.02\n",
      "Under Poorly Lit the chances of accidents of the varying severity levels are:\n",
      "\t\tLIFECOST 0: 73.58\n",
      "\t\tLIFECOST 1: 23.67\n",
      "\t\tLIFECOST 2: 0.17\n",
      "\t\tLIFECOST 3: 2.31\n",
      "\t\tLIFECOST 4: 0.24\n",
      "\t\tLIFECOST 5: 0.03\n",
      "Under Well Lit the chances of accidents of the varying severity levels are:\n",
      "\t\tLIFECOST 0: 66.19\n",
      "\t\tLIFECOST 1: 31.93\n",
      "\t\tLIFECOST 2: 0.28\n",
      "\t\tLIFECOST 3: 1.42\n",
      "\t\tLIFECOST 4: 0.17\n",
      "\t\tLIFECOST 5: 0.02\n"
     ]
    }
   ],
   "source": [
    "cond = ['Ideal Weather', 'Cloudy Weather', 'Extreme Weather', 'Raining', 'Oil/Ice', 'Snow/Slush', 'Wet', 'Poorly Lit', 'Well Lit']\n",
    "pred_solo = []\n",
    "for i in range(len(solo_conditions)):\n",
    "    x = np.reshape(solo_conditions[i],(1,-1))\n",
    "    pred = LR_model.predict_proba(x)\n",
    "    pred = pred*100\n",
    "    pred_solo.append(pred)\n",
    "    print(f'Under {cond[i]} the chances of accidents of the varying severity levels are:')\n",
    "    count = 0\n",
    "    for p in pred[0]:\n",
    "        print('\\t\\tLIFECOST {}: {:.2f}'.format(count,p))\n",
    "        count+=1\n",
    "\n",
    "        "
   ]
  },
  {
   "cell_type": "markdown",
   "metadata": {},
   "source": [
    "As you might observe, as there is a significantly larger amount of accidents that only deal with property damage, all our models are highly biased towards accidents with a LIFECOST of 1. There also exists a significant number of car crashes in our dataset that only contained minor crashes that involved minor injuries and are classified with a LIFECOST of 2. As they are extremely commmon, our machine learning models are highly biased towards them. \n",
    "\n",
    "To resolve this issue, we attempt to train our model on only datapoints with LIFECOST 3 and above."
   ]
  },
  {
   "cell_type": "markdown",
   "metadata": {},
   "source": [
    "# Selective Modeling"
   ]
  },
  {
   "cell_type": "code",
   "execution_count": 53,
   "metadata": {},
   "outputs": [
    {
     "name": "stdout",
     "output_type": "stream",
     "text": [
      "[2 3 4 5]\n"
     ]
    }
   ],
   "source": [
    "df_worst = df_worse[df_worse['LIFECOSTSCORE'] >= 2]\n",
    "X = pd.get_dummies(df_worst[['WEATHER','ROADCOND','LIGHTCOND']],drop_first = True)\n",
    "y = df_worst['LIFECOSTSCORE']\n",
    "print(np.unique(y))"
   ]
  },
  {
   "cell_type": "code",
   "execution_count": 54,
   "metadata": {},
   "outputs": [
    {
     "name": "stdout",
     "output_type": "stream",
     "text": [
      "Train set: (1794, 8) (1794,)\n",
      "Test set: (330, 8) (330,)\n"
     ]
    }
   ],
   "source": [
    "X_train, X_test, y_train, y_test = train_test_split( X, y, test_size=0.155, random_state=4)\n",
    "print ('Train set:', X_train.shape,  y_train.shape)\n",
    "print ('Test set:', X_test.shape,  y_test.shape)"
   ]
  },
  {
   "cell_type": "code",
   "execution_count": 132,
   "metadata": {},
   "outputs": [
    {
     "name": "stderr",
     "output_type": "stream",
     "text": [
      "100%|██████████████████████████████████████████████████████████████████████████████████| 14/14 [00:00<00:00, 26.11it/s]\n"
     ]
    },
    {
     "data": {
      "image/png": "[encoded data removed]",
      "text/plain": [
       "<Figure size 432x288 with 1 Axes>"
      ]
     },
     "metadata": {
      "needs_background": "light"
     },
     "output_type": "display_data"
    }
   ],
   "source": [
    "#KNN\n",
    "Ks = 15\n",
    "mean_acc = np.zeros((Ks-1))\n",
    "std_acc = np.zeros((Ks-1))\n",
    "ConfustionMx = [];\n",
    "for n in tqdm(range(1,Ks)):\n",
    "     \n",
    "    neigh = KNeighborsClassifier(n_neighbors = n).fit(X_train,y_train)\n",
    "    yhat=neigh.predict(X_test)\n",
    "    mean_acc[n-1] = metrics.accuracy_score(y_test, yhat)\n",
    "\n",
    "    \n",
    "    std_acc[n-1]=np.std(yhat==y_test)/np.sqrt(yhat.shape[0])\n",
    "\n",
    "plt.plot(range(1,Ks),mean_acc,'g')\n",
    "plt.fill_between(range(1,Ks),mean_acc - 1 * std_acc,mean_acc + 1 * std_acc, alpha=0.10)\n",
    "plt.legend(('Accuracy ', '+/- 3xstd'))\n",
    "plt.ylabel('Accuracy ')\n",
    "plt.xlabel('Number of Nabors (K)')\n",
    "plt.tight_layout()\n",
    "plt.show()"
   ]
  },
  {
   "cell_type": "code",
   "execution_count": 133,
   "metadata": {},
   "outputs": [],
   "source": [
    "#Decision Tree\n",
    "decisionTree = DecisionTreeClassifier(criterion=\"entropy\", max_depth = 20).fit(X_train,y_train)"
   ]
  },
  {
   "cell_type": "code",
   "execution_count": 134,
   "metadata": {},
   "outputs": [
    {
     "name": "stderr",
     "output_type": "stream",
     "text": [
      "100%|████████████████████████████████████████████████████████████████████████████████████| 4/4 [00:00<00:00, 16.73it/s]"
     ]
    },
    {
     "name": "stdout",
     "output_type": "stream",
     "text": [
      "The accuracy of the SVM with kernel = rbf is equal to 0.806060606060606\n",
      "The accuracy of the SVM with kernel = linear is equal to 0.806060606060606\n",
      "The accuracy of the SVM with kernel = poly is equal to 0.806060606060606\n",
      "The accuracy of the SVM with kernel = sigmoid is equal to 0.7636363636363637\n"
     ]
    },
    {
     "name": "stderr",
     "output_type": "stream",
     "text": [
      "\n"
     ]
    }
   ],
   "source": [
    "#Support Vector Machine\n",
    "kernels = ['rbf','linear','poly','sigmoid']\n",
    "for kern in tqdm(kernels):\n",
    "    SVM_model = svm.SVC(kernel = kern).fit(X_train,y_train)\n",
    "    yhat = SVM_model.predict(X_test)\n",
    "    acc = metrics.accuracy_score(y_test,yhat)\n",
    "    print(f'The accuracy of the SVM with kernel = {kern} is equal to {acc}') #"
   ]
  },
  {
   "cell_type": "code",
   "execution_count": 135,
   "metadata": {},
   "outputs": [
    {
     "name": "stdout",
     "output_type": "stream",
     "text": [
      "Grid Search yielded the best score for logistic regression as : 0.8026765828825964 with parameters : {'C': 1, 'solver': 'liblinear'}\n"
     ]
    }
   ],
   "source": [
    "#Logistic regression \n",
    "params1 = [{'C':[1,0.1,0.01,0.001,0.0001],\n",
    "            'solver':['liblinear', 'newton-cg', 'lbfgs', 'liblinear', 'sag', 'saga']\n",
    "           }]\n",
    "LR = LogisticRegression()\n",
    "LR_Grid = GridSearchCV(LR, params1,cv=4)\n",
    "LR_Grid.fit(X_train,y_train) \n",
    "print(f'Grid Search yielded the best score for logistic regression as : {LR_Grid.best_score_} with parameters : {LR_Grid.best_params_}')"
   ]
  },
  {
   "cell_type": "code",
   "execution_count": 55,
   "metadata": {},
   "outputs": [
    {
     "name": "stderr",
     "output_type": "stream",
     "text": [
      "D:\\Downloads\\Anaconda3\\lib\\site-packages\\sklearn\\linear_model\\logistic.py:469: FutureWarning: Default multi_class will be changed to 'auto' in 0.22. Specify the multi_class option to silence this warning.\n",
      "  \"this warning.\", FutureWarning)\n"
     ]
    }
   ],
   "source": [
    "#KNN_model = KNeighborsClassifier(n_neighbors = 9).fit(X_train,y_train)\n",
    "#DT_model = DecisionTreeClassifier(criterion=\"entropy\", max_depth = 20).fit(X_train,y_train)\n",
    "#clf_model = svm.SVC(kernel = 'linear', probability = True).fit(X_train,y_train)\n",
    "LR_model = LogisticRegression(C = 1, solver='liblinear').fit(X_train,y_train)"
   ]
  },
  {
   "cell_type": "code",
   "execution_count": 56,
   "metadata": {},
   "outputs": [],
   "source": [
    "#k-Nearest Neighbors\n",
    "yhat_knn = KNN_model.predict(X_test)\n",
    "prob_knn = KNN_model.predict_proba(X_test)\n",
    "\n",
    "#Decision Tree\n",
    "yhat_dt = DT_model.predict(X_test)\n",
    "prob_dt = DT_model.predict_proba(X_test)\n",
    "\n",
    "#SVM\n",
    "yhat_svm = clf_model.predict(X_test)\n",
    "prob_svm = clf_model.predict_proba(X_test)\n",
    "\n",
    "#Logistic Regression\n",
    "yhat_lr = LR_model.predict(X_test)\n",
    "prob_lr = LR_model.predict_proba(X_test)"
   ]
  },
  {
   "cell_type": "code",
   "execution_count": 138,
   "metadata": {},
   "outputs": [
    {
     "name": "stdout",
     "output_type": "stream",
     "text": [
      "K-Nearest Neighbors\n",
      "\t Jaccard Score: 0.806\n",
      "\t F1-Score: 0.720\n",
      "\t Log-Loss: 3.945\n",
      "Decision Tree\n",
      "\t Jaccard Score: 0.806\n",
      "\t F1-Score: 0.720\n",
      "\t Log-Loss: 0.743\n",
      "SVM\n",
      "\t Jaccard Score: 0.806\n",
      "\t F1-Score: 0.720\n",
      "\t Log-Loss: 0.667\n",
      "Logistic Regression\n",
      "\t Jaccard Score: 0.806\n",
      "\t F1-Score: 0.720\n",
      "\t Log-Loss: 0.654\n"
     ]
    },
    {
     "name": "stderr",
     "output_type": "stream",
     "text": [
      "D:\\Downloads\\Anaconda3\\envs\\sgraph\\lib\\site-packages\\sklearn\\metrics\\_classification.py:664: FutureWarning: jaccard_similarity_score has been deprecated and replaced with jaccard_score. It will be removed in version 0.23. This implementation has surprising behavior for binary and multiclass classification tasks.\n",
      "  FutureWarning)\n",
      "D:\\Downloads\\Anaconda3\\envs\\sgraph\\lib\\site-packages\\sklearn\\metrics\\_classification.py:664: FutureWarning: jaccard_similarity_score has been deprecated and replaced with jaccard_score. It will be removed in version 0.23. This implementation has surprising behavior for binary and multiclass classification tasks.\n",
      "  FutureWarning)\n",
      "D:\\Downloads\\Anaconda3\\envs\\sgraph\\lib\\site-packages\\sklearn\\metrics\\_classification.py:664: FutureWarning: jaccard_similarity_score has been deprecated and replaced with jaccard_score. It will be removed in version 0.23. This implementation has surprising behavior for binary and multiclass classification tasks.\n",
      "  FutureWarning)\n",
      "D:\\Downloads\\Anaconda3\\envs\\sgraph\\lib\\site-packages\\sklearn\\metrics\\_classification.py:664: FutureWarning: jaccard_similarity_score has been deprecated and replaced with jaccard_score. It will be removed in version 0.23. This implementation has surprising behavior for binary and multiclass classification tasks.\n",
      "  FutureWarning)\n"
     ]
    }
   ],
   "source": [
    "yhats = [yhat_knn,yhat_dt,yhat_svm,yhat_lr]\n",
    "probs = [prob_knn,prob_dt,prob_svm,prob_lr]\n",
    "scores = []\n",
    "for i in range(len(probs)):\n",
    "    s1 = jaccard_similarity_score(y_test,yhats[i])\n",
    "    s2 = f1_score(y_test,yhats[i], average='weighted')\n",
    "    s3 = log_loss(y_test,probs[i])\n",
    "    sc = [s1,s2,s3]\n",
    "    scores.append(sc)\n",
    "\n",
    "\n",
    "names = ['K-Nearest Neighbors', 'Decision Tree', 'SVM', 'Logistic Regression']\n",
    "for i in range(len(names)):\n",
    "    print(f'{names[i]}')\n",
    "    print('\\t Jaccard Score: {:.3f}'.format(scores[i][0]))\n",
    "    print('\\t F1-Score: {:.3f}'.format(scores[i][1]))\n",
    "    print('\\t Log-Loss: {:.3f}'.format(scores[i][2]))    "
   ]
  },
  {
   "cell_type": "code",
   "execution_count": 139,
   "metadata": {},
   "outputs": [],
   "source": [
    "solo_conditions = [\n",
    "[0,0,0,0,0,0,0,1],\n",
    "[1,0,0,0,0,0,0,0],\n",
    "[0,1,0,0,0,0,0,0],\n",
    "[0,0,1,0,0,0,0,0],\n",
    "[0,0,0,1,0,0,0,0], \n",
    "[0,0,0,0,1,0,0,0], \n",
    "[0,0,0,0,0,1,0,0], \n",
    "[0,0,0,0,0,0,1,0],\n",
    "[0,0,0,0,0,0,0,0]] "
   ]
  },
  {
   "cell_type": "code",
   "execution_count": 57,
   "metadata": {},
   "outputs": [
    {
     "name": "stdout",
     "output_type": "stream",
     "text": [
      "Under Ideal Weather the chances of severe and massive car crashes of varying levels are:\n",
      "\t\tLIFECOST 2: 8.58\n",
      "\t\tLIFECOST 3: 78.54\n",
      "\t\tLIFECOST 4: 11.64\n",
      "\t\tLIFECOST 5: 1.24\n",
      "Under Cloudy Weather the chances of severe and massive car crashes of varying levels are:\n",
      "\t\tLIFECOST 2: 2.33\n",
      "\t\tLIFECOST 3: 91.30\n",
      "\t\tLIFECOST 4: 5.93\n",
      "\t\tLIFECOST 5: 0.44\n",
      "Under Extreme Weather the chances of severe and massive car crashes of varying levels are:\n",
      "\t\tLIFECOST 2: 5.56\n",
      "\t\tLIFECOST 3: 74.18\n",
      "\t\tLIFECOST 4: 17.93\n",
      "\t\tLIFECOST 5: 2.32\n",
      "Under Raining the chances of severe and massive car crashes of varying levels are:\n",
      "\t\tLIFECOST 2: 12.11\n",
      "\t\tLIFECOST 3: 72.69\n",
      "\t\tLIFECOST 4: 14.41\n",
      "\t\tLIFECOST 5: 0.79\n",
      "Under Oil/Ice the chances of severe and massive car crashes of varying levels are:\n",
      "\t\tLIFECOST 2: 4.07\n",
      "\t\tLIFECOST 3: 86.97\n",
      "\t\tLIFECOST 4: 7.94\n",
      "\t\tLIFECOST 5: 1.02\n",
      "Under Snow/Slush the chances of severe and massive car crashes of varying levels are:\n",
      "\t\tLIFECOST 2: 17.49\n",
      "\t\tLIFECOST 3: 75.48\n",
      "\t\tLIFECOST 4: 5.96\n",
      "\t\tLIFECOST 5: 1.07\n",
      "Under Wet the chances of severe and massive car crashes of varying levels are:\n",
      "\t\tLIFECOST 2: 6.74\n",
      "\t\tLIFECOST 3: 86.13\n",
      "\t\tLIFECOST 4: 6.35\n",
      "\t\tLIFECOST 5: 0.78\n",
      "Under Poorly Lit the chances of severe and massive car crashes of varying levels are:\n",
      "\t\tLIFECOST 2: 6.49\n",
      "\t\tLIFECOST 3: 85.45\n",
      "\t\tLIFECOST 4: 7.18\n",
      "\t\tLIFECOST 5: 0.87\n",
      "Under Fairly Lit the chances of severe and massive car crashes of varying levels are:\n",
      "\t\tLIFECOST 2: 15.25\n",
      "\t\tLIFECOST 3: 75.18\n",
      "\t\tLIFECOST 4: 8.66\n",
      "\t\tLIFECOST 5: 0.91\n"
     ]
    }
   ],
   "source": [
    "cond = ['Ideal Weather', 'Cloudy Weather', 'Extreme Weather', 'Raining', 'Oil/Ice', 'Snow/Slush', 'Wet', 'Poorly Lit', 'Fairly Lit']\n",
    "pred_solo = []\n",
    "for i in range(len(solo_conditions)):\n",
    "    x = np.reshape(solo_conditions[i],(1,-1))\n",
    "    pred = LR_model.predict_proba(x)\n",
    "    pred = pred*100\n",
    "    pred_solo.append(pred)\n",
    "    print(f'Under {cond[i]} the chances of severe and massive car crashes of varying levels are:')\n",
    "    count = 2\n",
    "    for p in pred[0]:\n",
    "        print('\\t\\tLIFECOST {}: {:.2f}'.format(count,p))\n",
    "        count+=1"
   ]
  },
  {
   "cell_type": "code",
   "execution_count": null,
   "metadata": {},
   "outputs": [],
   "source": []
  },
  {
   "cell_type": "code",
   "execution_count": null,
   "metadata": {},
   "outputs": [],
   "source": []
  }
 ],
 "metadata": {
  "kernelspec": {
   "display_name": "Python 3",
   "language": "python",
   "name": "python3"
  },
  "language_info": {
   "codemirror_mode": {
    "name": "ipython",
    "version": 3
   },
   "file_extension": ".py",
   "mimetype": "text/x-python",
   "name": "python",
   "nbconvert_exporter": "python",
   "pygments_lexer": "ipython3",
   "version": "3.7.3"
  }
 },
 "nbformat": 4,
 "nbformat_minor": 4
}
